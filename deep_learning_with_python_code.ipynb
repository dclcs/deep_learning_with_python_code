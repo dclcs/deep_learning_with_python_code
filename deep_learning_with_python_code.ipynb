{
  "nbformat": 4,
  "nbformat_minor": 0,
  "metadata": {
    "colab": {
      "name": "deep_learning_with_python_code.ipynb",
      "version": "0.3.2",
      "provenance": [],
      "collapsed_sections": [],
      "toc_visible": true
    },
    "kernelspec": {
      "name": "python3",
      "display_name": "Python 3"
    }
  },
  "cells": [
    {
      "metadata": {
        "id": "p3_Zj-t3fTYY",
        "colab_type": "text"
      },
      "cell_type": "markdown",
      "source": [
        "# Chapter One"
      ]
    },
    {
      "metadata": {
        "id": "CY98vax9oOFX",
        "colab_type": "text"
      },
      "cell_type": "markdown",
      "source": [
        "## 1.5 NumPy"
      ]
    },
    {
      "metadata": {
        "id": "oJX1W6ZvfYKh",
        "colab_type": "text"
      },
      "cell_type": "markdown",
      "source": [
        "### 导入numpy"
      ]
    },
    {
      "metadata": {
        "id": "QIXPJNnnfPeE",
        "colab_type": "code",
        "colab": {}
      },
      "cell_type": "code",
      "source": [
        "import numpy as np"
      ],
      "execution_count": 0,
      "outputs": []
    },
    {
      "metadata": {
        "id": "xfKNh9kefiCG",
        "colab_type": "text"
      },
      "cell_type": "markdown",
      "source": [
        "### 生成NumPy数组"
      ]
    },
    {
      "metadata": {
        "id": "2sC2fswVfd2g",
        "colab_type": "code",
        "colab": {}
      },
      "cell_type": "code",
      "source": [
        "x = np.array([1,0, 2.0, 3.0])"
      ],
      "execution_count": 0,
      "outputs": []
    },
    {
      "metadata": {
        "id": "7URQBMuNfoo_",
        "colab_type": "code",
        "colab": {
          "base_uri": "https://localhost:8080/",
          "height": 35
        },
        "outputId": "c9e14046-3086-4d51-90f9-88be6d55bbad"
      },
      "cell_type": "code",
      "source": [
        "x"
      ],
      "execution_count": 3,
      "outputs": [
        {
          "output_type": "execute_result",
          "data": {
            "text/plain": [
              "array([1., 0., 2., 3.])"
            ]
          },
          "metadata": {
            "tags": []
          },
          "execution_count": 3
        }
      ]
    },
    {
      "metadata": {
        "id": "eh9M-h-VfpNw",
        "colab_type": "code",
        "colab": {
          "base_uri": "https://localhost:8080/",
          "height": 35
        },
        "outputId": "2eaa3746-0fb9-463c-ce47-114861c55a63"
      },
      "cell_type": "code",
      "source": [
        "type(x)"
      ],
      "execution_count": 4,
      "outputs": [
        {
          "output_type": "execute_result",
          "data": {
            "text/plain": [
              "numpy.ndarray"
            ]
          },
          "metadata": {
            "tags": []
          },
          "execution_count": 4
        }
      ]
    },
    {
      "metadata": {
        "id": "Gmi54btnfsEr",
        "colab_type": "text"
      },
      "cell_type": "markdown",
      "source": [
        "### NumPy的算术运算"
      ]
    },
    {
      "metadata": {
        "id": "bzZdKuZ3fqLX",
        "colab_type": "code",
        "colab": {}
      },
      "cell_type": "code",
      "source": [
        "x = np.array([1.0, 2.0, 3.0])\n",
        "y = np.array([2.0, 4.0, 6.0])"
      ],
      "execution_count": 0,
      "outputs": []
    },
    {
      "metadata": {
        "id": "y090XCePf4oI",
        "colab_type": "code",
        "colab": {
          "base_uri": "https://localhost:8080/",
          "height": 35
        },
        "outputId": "84404f43-d107-46e0-f963-c5fc85f264da"
      },
      "cell_type": "code",
      "source": [
        "x + y"
      ],
      "execution_count": 6,
      "outputs": [
        {
          "output_type": "execute_result",
          "data": {
            "text/plain": [
              "array([3., 6., 9.])"
            ]
          },
          "metadata": {
            "tags": []
          },
          "execution_count": 6
        }
      ]
    },
    {
      "metadata": {
        "id": "xuH534Qqf54g",
        "colab_type": "code",
        "colab": {
          "base_uri": "https://localhost:8080/",
          "height": 35
        },
        "outputId": "1069da47-1934-4e3f-9760-f36bcccd034b"
      },
      "cell_type": "code",
      "source": [
        "x - y"
      ],
      "execution_count": 7,
      "outputs": [
        {
          "output_type": "execute_result",
          "data": {
            "text/plain": [
              "array([-1., -2., -3.])"
            ]
          },
          "metadata": {
            "tags": []
          },
          "execution_count": 7
        }
      ]
    },
    {
      "metadata": {
        "id": "Z1tJPMhLf7Sv",
        "colab_type": "code",
        "colab": {
          "base_uri": "https://localhost:8080/",
          "height": 35
        },
        "outputId": "297114d9-375a-4695-9e22-afca012fe83e"
      },
      "cell_type": "code",
      "source": [
        "x * y"
      ],
      "execution_count": 8,
      "outputs": [
        {
          "output_type": "execute_result",
          "data": {
            "text/plain": [
              "array([ 2.,  8., 18.])"
            ]
          },
          "metadata": {
            "tags": []
          },
          "execution_count": 8
        }
      ]
    },
    {
      "metadata": {
        "id": "IP-Ui6j2f844",
        "colab_type": "code",
        "colab": {
          "base_uri": "https://localhost:8080/",
          "height": 35
        },
        "outputId": "e266690f-cdcf-4347-b4f4-e996387ef5fd"
      },
      "cell_type": "code",
      "source": [
        "x / y"
      ],
      "execution_count": 9,
      "outputs": [
        {
          "output_type": "execute_result",
          "data": {
            "text/plain": [
              "array([0.5, 0.5, 0.5])"
            ]
          },
          "metadata": {
            "tags": []
          },
          "execution_count": 9
        }
      ]
    },
    {
      "metadata": {
        "id": "lrOdNbf_gA49",
        "colab_type": "text"
      },
      "cell_type": "markdown",
      "source": [
        "对应元素的=> element-wise"
      ]
    },
    {
      "metadata": {
        "id": "UtQMv7qKgPbj",
        "colab_type": "text"
      },
      "cell_type": "markdown",
      "source": [
        "### NumPy的N维数组"
      ]
    },
    {
      "metadata": {
        "id": "hmtf8wQqf92v",
        "colab_type": "code",
        "colab": {}
      },
      "cell_type": "code",
      "source": [
        "A = np.array([[1,2],[3,4]])"
      ],
      "execution_count": 0,
      "outputs": []
    },
    {
      "metadata": {
        "id": "dWY_HyntgF1X",
        "colab_type": "code",
        "colab": {
          "base_uri": "https://localhost:8080/",
          "height": 53
        },
        "outputId": "d2cd7c93-4a51-40a3-ad3d-a0645f6e2517"
      },
      "cell_type": "code",
      "source": [
        "A"
      ],
      "execution_count": 11,
      "outputs": [
        {
          "output_type": "execute_result",
          "data": {
            "text/plain": [
              "array([[1, 2],\n",
              "       [3, 4]])"
            ]
          },
          "metadata": {
            "tags": []
          },
          "execution_count": 11
        }
      ]
    },
    {
      "metadata": {
        "id": "C4E9yyZAgXOw",
        "colab_type": "code",
        "colab": {
          "base_uri": "https://localhost:8080/",
          "height": 35
        },
        "outputId": "4a27f403-d76d-4e30-eac0-5047b6f0215d"
      },
      "cell_type": "code",
      "source": [
        "A.shape"
      ],
      "execution_count": 12,
      "outputs": [
        {
          "output_type": "execute_result",
          "data": {
            "text/plain": [
              "(2, 2)"
            ]
          },
          "metadata": {
            "tags": []
          },
          "execution_count": 12
        }
      ]
    },
    {
      "metadata": {
        "id": "DDqwS8O8gYiP",
        "colab_type": "code",
        "colab": {
          "base_uri": "https://localhost:8080/",
          "height": 35
        },
        "outputId": "d968a003-bb25-4bc4-d36d-12340af01fc2"
      },
      "cell_type": "code",
      "source": [
        "A.dtype"
      ],
      "execution_count": 13,
      "outputs": [
        {
          "output_type": "execute_result",
          "data": {
            "text/plain": [
              "dtype('int64')"
            ]
          },
          "metadata": {
            "tags": []
          },
          "execution_count": 13
        }
      ]
    },
    {
      "metadata": {
        "id": "AucHD8uIgZxA",
        "colab_type": "code",
        "colab": {}
      },
      "cell_type": "code",
      "source": [
        "B = np.array([[3, 0],[0, 6]])"
      ],
      "execution_count": 0,
      "outputs": []
    },
    {
      "metadata": {
        "id": "xbnXA5y1gg1Y",
        "colab_type": "code",
        "colab": {
          "base_uri": "https://localhost:8080/",
          "height": 53
        },
        "outputId": "b998b480-0eb9-4049-8c6f-235518644f32"
      },
      "cell_type": "code",
      "source": [
        "A + B"
      ],
      "execution_count": 15,
      "outputs": [
        {
          "output_type": "execute_result",
          "data": {
            "text/plain": [
              "array([[ 4,  2],\n",
              "       [ 3, 10]])"
            ]
          },
          "metadata": {
            "tags": []
          },
          "execution_count": 15
        }
      ]
    },
    {
      "metadata": {
        "id": "8IRMbYmCgh4P",
        "colab_type": "code",
        "colab": {
          "base_uri": "https://localhost:8080/",
          "height": 53
        },
        "outputId": "5e74bfc0-e2c4-46e4-81d0-7528e3a67080"
      },
      "cell_type": "code",
      "source": [
        "A * B"
      ],
      "execution_count": 16,
      "outputs": [
        {
          "output_type": "execute_result",
          "data": {
            "text/plain": [
              "array([[ 3,  0],\n",
              "       [ 0, 24]])"
            ]
          },
          "metadata": {
            "tags": []
          },
          "execution_count": 16
        }
      ]
    },
    {
      "metadata": {
        "id": "nokNe1Hkgjd_",
        "colab_type": "code",
        "colab": {
          "base_uri": "https://localhost:8080/",
          "height": 53
        },
        "outputId": "338a11ae-d3ef-4043-dd4c-812ae4a58bdc"
      },
      "cell_type": "code",
      "source": [
        "A"
      ],
      "execution_count": 17,
      "outputs": [
        {
          "output_type": "execute_result",
          "data": {
            "text/plain": [
              "array([[1, 2],\n",
              "       [3, 4]])"
            ]
          },
          "metadata": {
            "tags": []
          },
          "execution_count": 17
        }
      ]
    },
    {
      "metadata": {
        "id": "qGjCPZMjglZY",
        "colab_type": "code",
        "colab": {
          "base_uri": "https://localhost:8080/",
          "height": 53
        },
        "outputId": "87dfede5-66e3-47cc-f471-0bfc03469f0a"
      },
      "cell_type": "code",
      "source": [
        "A * 10"
      ],
      "execution_count": 18,
      "outputs": [
        {
          "output_type": "execute_result",
          "data": {
            "text/plain": [
              "array([[10, 20],\n",
              "       [30, 40]])"
            ]
          },
          "metadata": {
            "tags": []
          },
          "execution_count": 18
        }
      ]
    },
    {
      "metadata": {
        "id": "g-34rL93hMZb",
        "colab_type": "text"
      },
      "cell_type": "markdown",
      "source": [
        "### 广播\n",
        "\n",
        "![替代文字](https://images2015.cnblogs.com/blog/586070/201605/586070-20160517002735654-1094729362.png)"
      ]
    },
    {
      "metadata": {
        "id": "qU-1gtKCgmig",
        "colab_type": "code",
        "colab": {}
      },
      "cell_type": "code",
      "source": [
        "A = np.array([[1, 2], [3, 4]])\n",
        "B = np.array([10, 20])"
      ],
      "execution_count": 0,
      "outputs": []
    },
    {
      "metadata": {
        "id": "9YAgU-hXiBH3",
        "colab_type": "code",
        "colab": {
          "base_uri": "https://localhost:8080/",
          "height": 53
        },
        "outputId": "ddb4bd9b-3516-4d8c-f6ee-e5bb79f3f51e"
      },
      "cell_type": "code",
      "source": [
        "A * B"
      ],
      "execution_count": 20,
      "outputs": [
        {
          "output_type": "execute_result",
          "data": {
            "text/plain": [
              "array([[10, 40],\n",
              "       [30, 80]])"
            ]
          },
          "metadata": {
            "tags": []
          },
          "execution_count": 20
        }
      ]
    },
    {
      "metadata": {
        "id": "b1rlr0DaiQ8I",
        "colab_type": "text"
      },
      "cell_type": "markdown",
      "source": [
        "### 访问元素"
      ]
    },
    {
      "metadata": {
        "id": "Sgqr-7wfiCgB",
        "colab_type": "code",
        "colab": {}
      },
      "cell_type": "code",
      "source": [
        "X = np.array([[51, 55], [14, 19], [0,4]])"
      ],
      "execution_count": 0,
      "outputs": []
    },
    {
      "metadata": {
        "id": "yYzjvuStiYKH",
        "colab_type": "code",
        "colab": {
          "base_uri": "https://localhost:8080/",
          "height": 71
        },
        "outputId": "cca03dde-3312-432b-aaf8-06bdda95fb18"
      },
      "cell_type": "code",
      "source": [
        "X"
      ],
      "execution_count": 23,
      "outputs": [
        {
          "output_type": "execute_result",
          "data": {
            "text/plain": [
              "array([[51, 55],\n",
              "       [14, 19],\n",
              "       [ 0,  4]])"
            ]
          },
          "metadata": {
            "tags": []
          },
          "execution_count": 23
        }
      ]
    },
    {
      "metadata": {
        "id": "a_NyGYk-ibHR",
        "colab_type": "code",
        "colab": {
          "base_uri": "https://localhost:8080/",
          "height": 35
        },
        "outputId": "68e0324f-1cce-44cb-e182-332cd1ef30ce"
      },
      "cell_type": "code",
      "source": [
        "X[0]"
      ],
      "execution_count": 24,
      "outputs": [
        {
          "output_type": "execute_result",
          "data": {
            "text/plain": [
              "array([51, 55])"
            ]
          },
          "metadata": {
            "tags": []
          },
          "execution_count": 24
        }
      ]
    },
    {
      "metadata": {
        "id": "cXQeT2pdicGQ",
        "colab_type": "code",
        "colab": {
          "base_uri": "https://localhost:8080/",
          "height": 35
        },
        "outputId": "00015837-f811-41cf-dcb0-d3e336eb0a6b"
      },
      "cell_type": "code",
      "source": [
        "X[0][1]"
      ],
      "execution_count": 25,
      "outputs": [
        {
          "output_type": "execute_result",
          "data": {
            "text/plain": [
              "55"
            ]
          },
          "metadata": {
            "tags": []
          },
          "execution_count": 25
        }
      ]
    },
    {
      "metadata": {
        "id": "J5oiBhk0idun",
        "colab_type": "code",
        "colab": {
          "base_uri": "https://localhost:8080/",
          "height": 71
        },
        "outputId": "7fef185a-e23d-415a-ba48-043416a92d93"
      },
      "cell_type": "code",
      "source": [
        "for row in X:\n",
        "  print(row)"
      ],
      "execution_count": 26,
      "outputs": [
        {
          "output_type": "stream",
          "text": [
            "[51 55]\n",
            "[14 19]\n",
            "[0 4]\n"
          ],
          "name": "stdout"
        }
      ]
    },
    {
      "metadata": {
        "id": "Vm-eGVmqih2X",
        "colab_type": "code",
        "colab": {}
      },
      "cell_type": "code",
      "source": [
        "X = X.flatten()"
      ],
      "execution_count": 0,
      "outputs": []
    },
    {
      "metadata": {
        "id": "klOe9X20ikqX",
        "colab_type": "code",
        "colab": {
          "base_uri": "https://localhost:8080/",
          "height": 35
        },
        "outputId": "ae9fbaa2-3bbe-4911-ac1d-966fb917cac8"
      },
      "cell_type": "code",
      "source": [
        "X"
      ],
      "execution_count": 28,
      "outputs": [
        {
          "output_type": "execute_result",
          "data": {
            "text/plain": [
              "array([51, 55, 14, 19,  0,  4])"
            ]
          },
          "metadata": {
            "tags": []
          },
          "execution_count": 28
        }
      ]
    },
    {
      "metadata": {
        "id": "_n9ieYOGilHn",
        "colab_type": "code",
        "colab": {
          "base_uri": "https://localhost:8080/",
          "height": 35
        },
        "outputId": "381b939e-b84c-43ed-fb71-ea0fd5ae5e49"
      },
      "cell_type": "code",
      "source": [
        "X[np.array([0, 2, 4])]"
      ],
      "execution_count": 29,
      "outputs": [
        {
          "output_type": "execute_result",
          "data": {
            "text/plain": [
              "array([51, 14,  0])"
            ]
          },
          "metadata": {
            "tags": []
          },
          "execution_count": 29
        }
      ]
    },
    {
      "metadata": {
        "id": "kdH5S3zGioSf",
        "colab_type": "code",
        "colab": {}
      },
      "cell_type": "code",
      "source": [
        ""
      ],
      "execution_count": 0,
      "outputs": []
    },
    {
      "metadata": {
        "id": "oSRbznxdoUQA",
        "colab_type": "text"
      },
      "cell_type": "markdown",
      "source": [
        "# Chapter Two"
      ]
    },
    {
      "metadata": {
        "id": "HyntM-ZKoZLU",
        "colab_type": "text"
      },
      "cell_type": "markdown",
      "source": [
        "## 2.3 感知机的实现"
      ]
    },
    {
      "metadata": {
        "id": "6GdCZ3pkpFU7",
        "colab_type": "text"
      },
      "cell_type": "markdown",
      "source": [
        "### 2.3.1"
      ]
    },
    {
      "metadata": {
        "id": "tujfy5JJoX8u",
        "colab_type": "code",
        "colab": {}
      },
      "cell_type": "code",
      "source": [
        "def AND(x1, x2):\n",
        "  w1, w2 ,theta = 0.5,0.5,0.7\n",
        "  tmp = x1 * w1 + x2 * w2\n",
        "  if tmp < theta:\n",
        "    return 0\n",
        "  elif tmp > theta:\n",
        "    return 1"
      ],
      "execution_count": 0,
      "outputs": []
    },
    {
      "metadata": {
        "id": "ak6EaAX1orrt",
        "colab_type": "code",
        "colab": {
          "base_uri": "https://localhost:8080/",
          "height": 35
        },
        "outputId": "6165cca6-49be-4b4b-8eb4-a62dccc84a9f"
      },
      "cell_type": "code",
      "source": [
        "AND(0, 0)\n",
        "AND(1, 0)\n",
        "AND(0, 1)\n",
        "AND(1, 1)"
      ],
      "execution_count": 36,
      "outputs": [
        {
          "output_type": "execute_result",
          "data": {
            "text/plain": [
              "1"
            ]
          },
          "metadata": {
            "tags": []
          },
          "execution_count": 36
        }
      ]
    },
    {
      "metadata": {
        "id": "MFWHiCsSpB2v",
        "colab_type": "text"
      },
      "cell_type": "markdown",
      "source": [
        "### 2.3.2"
      ]
    },
    {
      "metadata": {
        "id": "8H3qHKwgotre",
        "colab_type": "code",
        "colab": {}
      },
      "cell_type": "code",
      "source": [
        "x = np.array([0, 1])\n",
        "w = np.array([0.5,0.5])\n",
        "b = -0.7"
      ],
      "execution_count": 0,
      "outputs": []
    },
    {
      "metadata": {
        "id": "EoaDKtrtpve2",
        "colab_type": "code",
        "colab": {
          "base_uri": "https://localhost:8080/",
          "height": 35
        },
        "outputId": "e9098a38-e300-4059-818d-8270b75082e7"
      },
      "cell_type": "code",
      "source": [
        "w * x"
      ],
      "execution_count": 38,
      "outputs": [
        {
          "output_type": "execute_result",
          "data": {
            "text/plain": [
              "array([0. , 0.5])"
            ]
          },
          "metadata": {
            "tags": []
          },
          "execution_count": 38
        }
      ]
    },
    {
      "metadata": {
        "id": "1kPYjp7PpwuO",
        "colab_type": "code",
        "colab": {
          "base_uri": "https://localhost:8080/",
          "height": 35
        },
        "outputId": "fe70ad9b-f322-46fb-b9fe-756dc09e0428"
      },
      "cell_type": "code",
      "source": [
        "np.sum(w*x)"
      ],
      "execution_count": 39,
      "outputs": [
        {
          "output_type": "execute_result",
          "data": {
            "text/plain": [
              "0.5"
            ]
          },
          "metadata": {
            "tags": []
          },
          "execution_count": 39
        }
      ]
    },
    {
      "metadata": {
        "id": "n0sWtAWepybt",
        "colab_type": "code",
        "colab": {
          "base_uri": "https://localhost:8080/",
          "height": 35
        },
        "outputId": "7b0416b3-5c8d-494b-b0f6-b0d18e81a1b3"
      },
      "cell_type": "code",
      "source": [
        "np.sum(w*x)+b"
      ],
      "execution_count": 41,
      "outputs": [
        {
          "output_type": "execute_result",
          "data": {
            "text/plain": [
              "-0.19999999999999996"
            ]
          },
          "metadata": {
            "tags": []
          },
          "execution_count": 41
        }
      ]
    },
    {
      "metadata": {
        "id": "erb2YiP_p_sm",
        "colab_type": "text"
      },
      "cell_type": "markdown",
      "source": [
        "### 2.3.3"
      ]
    },
    {
      "metadata": {
        "id": "Ibn9jYzRp3Qm",
        "colab_type": "code",
        "colab": {}
      },
      "cell_type": "code",
      "source": [
        "def AND(x1, x2):\n",
        "  x = np.array([x1, x2])\n",
        "  w = np.array([0.5, 0.5])\n",
        "  b = -0.7\n",
        "  tmp = np.sum(w * x) + b\n",
        "  if tmp <= 0:\n",
        "    return 0\n",
        "  else:\n",
        "    return 1"
      ],
      "execution_count": 0,
      "outputs": []
    },
    {
      "metadata": {
        "id": "KhOykIoxqP5t",
        "colab_type": "code",
        "colab": {}
      },
      "cell_type": "code",
      "source": [
        "def NAND(x1, x2):\n",
        "  x = np.array([x1, x2])\n",
        "  w = np.array([-0.5, -0.5])\n",
        "  b = 0.7\n",
        "  tmp = np.sum(w * x) + b\n",
        "  if tmp <= 0:\n",
        "    return 0\n",
        "  else:\n",
        "    return 1"
      ],
      "execution_count": 0,
      "outputs": []
    },
    {
      "metadata": {
        "id": "1s8rUVwEqgge",
        "colab_type": "code",
        "colab": {}
      },
      "cell_type": "code",
      "source": [
        "def OR(x1, x2):\n",
        "  x = np.array([x1, x2])\n",
        "  w = np.array([0.5, 0.5])\n",
        "  b = -0.2\n",
        "  tmp = np.sum(w * x) + b\n",
        "  if tmp <= 0:\n",
        "    return 0\n",
        "  else:\n",
        "    return 1"
      ],
      "execution_count": 0,
      "outputs": []
    },
    {
      "metadata": {
        "id": "SKFuSWIsse2F",
        "colab_type": "text"
      },
      "cell_type": "markdown",
      "source": [
        "## 2.4"
      ]
    },
    {
      "metadata": {
        "id": "7f8hJGRWqvR-",
        "colab_type": "code",
        "colab": {}
      },
      "cell_type": "code",
      "source": [
        "import matplotlib.pyplot as plt"
      ],
      "execution_count": 0,
      "outputs": []
    },
    {
      "metadata": {
        "id": "kPRgsf9Hud2z",
        "colab_type": "code",
        "colab": {}
      },
      "cell_type": "code",
      "source": [
        "x = np.arange(0, 1.1, 0.1)"
      ],
      "execution_count": 0,
      "outputs": []
    },
    {
      "metadata": {
        "id": "_TkHjHTeuiqM",
        "colab_type": "code",
        "colab": {
          "base_uri": "https://localhost:8080/",
          "height": 35
        },
        "outputId": "bfd6e2d7-4019-4146-ca2e-ebedfb5dd2d5"
      },
      "cell_type": "code",
      "source": [
        "x"
      ],
      "execution_count": 7,
      "outputs": [
        {
          "output_type": "execute_result",
          "data": {
            "text/plain": [
              "array([0. , 0.1, 0.2, 0.3, 0.4, 0.5, 0.6, 0.7, 0.8, 0.9, 1. ])"
            ]
          },
          "metadata": {
            "tags": []
          },
          "execution_count": 7
        }
      ]
    },
    {
      "metadata": {
        "id": "BljlVr29tq09",
        "colab_type": "text"
      },
      "cell_type": "markdown",
      "source": [
        "与门"
      ]
    },
    {
      "metadata": {
        "id": "ITCt8DCwsnGN",
        "colab_type": "code",
        "colab": {
          "base_uri": "https://localhost:8080/",
          "height": 347
        },
        "outputId": "3ab1d133-ebda-4cf2-b080-ace6ecc3532e"
      },
      "cell_type": "code",
      "source": [
        "plt.scatter(0,0,c='b',marker='o')\n",
        "plt.scatter(0,1,c='b',marker='o')\n",
        "plt.scatter(1,0,c='b',marker='o')\n",
        "plt.scatter(1,1,c='r',marker='v')\n",
        "plt.plot(x, -x + 7/5)\n",
        "plt.savefig('and.jpg',dpi=48)"
      ],
      "execution_count": 25,
      "outputs": [
        {
          "output_type": "display_data",
          "data": {
            "image/png": "[encoded data removed]",
            "text/plain": [
              "<matplotlib.figure.Figure at 0x7f5cf8fed9b0>"
            ]
          },
          "metadata": {
            "tags": []
          }
        }
      ]
    },
    {
      "metadata": {
        "id": "8FhT0i60t0Uc",
        "colab_type": "text"
      },
      "cell_type": "markdown",
      "source": [
        "与非门"
      ]
    },
    {
      "metadata": {
        "id": "n9zSEVQBsrnd",
        "colab_type": "code",
        "colab": {
          "base_uri": "https://localhost:8080/",
          "height": 347
        },
        "outputId": "413cd512-e595-4792-fc8e-8db859a4b3b6"
      },
      "cell_type": "code",
      "source": [
        "plt.scatter(0,0,c='r',marker='v')\n",
        "plt.scatter(0,1,c='r',marker='v')\n",
        "plt.scatter(1,0,c='r',marker='v')\n",
        "plt.scatter(1,1,c='b',marker='o')\n",
        "plt.plot(x, -x + 7/5)\n",
        "plt.savefig('nand.jpg',dpi=48)"
      ],
      "execution_count": 27,
      "outputs": [
        {
          "output_type": "display_data",
          "data": {
            "image/png": "[encoded data removed]",
            "text/plain": [
              "<matplotlib.figure.Figure at 0x7f5cf8fadba8>"
            ]
          },
          "metadata": {
            "tags": []
          }
        }
      ]
    },
    {
      "metadata": {
        "id": "bDekEz5pt-oc",
        "colab_type": "text"
      },
      "cell_type": "markdown",
      "source": [
        "或门"
      ]
    },
    {
      "metadata": {
        "id": "lx59QKwRt7h-",
        "colab_type": "code",
        "colab": {
          "base_uri": "https://localhost:8080/",
          "height": 347
        },
        "outputId": "5ee9f771-e51c-469a-f924-431e0d18eb18"
      },
      "cell_type": "code",
      "source": [
        "plt.scatter(0,0,c='b',marker='o')\n",
        "plt.scatter(0,1,c='r',marker='v')\n",
        "plt.scatter(1,0,c='r',marker='v')\n",
        "plt.scatter(1,1,c='r',marker='v')\n",
        "plt.plot(x, -x + 2/5)\n",
        "plt.savefig('or.jpg',dpi=48)"
      ],
      "execution_count": 28,
      "outputs": [
        {
          "output_type": "display_data",
          "data": {
            "image/png": "[encoded data removed]",
            "text/plain": [
              "<matplotlib.figure.Figure at 0x7f5cf8fe6dd8>"
            ]
          },
          "metadata": {
            "tags": []
          }
        }
      ]
    },
    {
      "metadata": {
        "id": "5XP5OaohuGzl",
        "colab_type": "text"
      },
      "cell_type": "markdown",
      "source": [
        "异或门"
      ]
    },
    {
      "metadata": {
        "id": "MA8OcJbbuFjt",
        "colab_type": "code",
        "colab": {
          "base_uri": "https://localhost:8080/",
          "height": 347
        },
        "outputId": "3c24d82f-0ef6-475a-b2e5-cab334ee176d"
      },
      "cell_type": "code",
      "source": [
        "plt.scatter(0,0,c='b',marker='o')\n",
        "plt.scatter(0,1,c='r',marker='v')\n",
        "plt.scatter(1,0,c='r',marker='v')\n",
        "plt.scatter(1,1,c='b',marker='o')\n",
        "plt.plot(x, 0.5 - x)\n",
        "plt.savefig('xor.jpg',dpi=48)"
      ],
      "execution_count": 29,
      "outputs": [
        {
          "output_type": "display_data",
          "data": {
            "image/png": "[encoded data removed]",
            "text/plain": [
              "<matplotlib.figure.Figure at 0x7f5cf9335a20>"
            ]
          },
          "metadata": {
            "tags": []
          }
        }
      ]
    },
    {
      "metadata": {
        "id": "8WvGu395zESc",
        "colab_type": "text"
      },
      "cell_type": "markdown",
      "source": [
        "## 2.5"
      ]
    },
    {
      "metadata": {
        "id": "jmMBD9pCuPIV",
        "colab_type": "code",
        "colab": {}
      },
      "cell_type": "code",
      "source": [
        "def XOR(x1, x2):\n",
        "  s1 = NAND(x1, x2)\n",
        "  s2 = OR(x1, x2)\n",
        "  y = AND(s1, s2)\n",
        "  return y"
      ],
      "execution_count": 0,
      "outputs": []
    },
    {
      "metadata": {
        "id": "IrDP50NYzN-0",
        "colab_type": "code",
        "colab": {
          "base_uri": "https://localhost:8080/",
          "height": 35
        },
        "outputId": "7d86a7b1-64f0-429b-c319-5ccd72897ae3"
      },
      "cell_type": "code",
      "source": [
        "XOR(1, 1)"
      ],
      "execution_count": 38,
      "outputs": [
        {
          "output_type": "execute_result",
          "data": {
            "text/plain": [
              "0"
            ]
          },
          "metadata": {
            "tags": []
          },
          "execution_count": 38
        }
      ]
    },
    {
      "metadata": {
        "id": "smFVTYVSzPjt",
        "colab_type": "code",
        "colab": {
          "base_uri": "https://localhost:8080/",
          "height": 35
        },
        "outputId": "01b403b2-2b33-4908-9f03-2c673353f930"
      },
      "cell_type": "code",
      "source": [
        "XOR(1, 0)"
      ],
      "execution_count": 39,
      "outputs": [
        {
          "output_type": "execute_result",
          "data": {
            "text/plain": [
              "1"
            ]
          },
          "metadata": {
            "tags": []
          },
          "execution_count": 39
        }
      ]
    },
    {
      "metadata": {
        "id": "wIB79LTjzXf0",
        "colab_type": "code",
        "colab": {
          "base_uri": "https://localhost:8080/",
          "height": 35
        },
        "outputId": "88f16e06-bc58-4b59-a5fb-e2b25946cc71"
      },
      "cell_type": "code",
      "source": [
        "XOR(0, 1)"
      ],
      "execution_count": 40,
      "outputs": [
        {
          "output_type": "execute_result",
          "data": {
            "text/plain": [
              "1"
            ]
          },
          "metadata": {
            "tags": []
          },
          "execution_count": 40
        }
      ]
    },
    {
      "metadata": {
        "id": "7mRL3OF9zYm0",
        "colab_type": "code",
        "colab": {
          "base_uri": "https://localhost:8080/",
          "height": 35
        },
        "outputId": "9767d4f2-8f27-4d48-a57c-6e34c876d9f4"
      },
      "cell_type": "code",
      "source": [
        "XOR(0,0)"
      ],
      "execution_count": 41,
      "outputs": [
        {
          "output_type": "execute_result",
          "data": {
            "text/plain": [
              "0"
            ]
          },
          "metadata": {
            "tags": []
          },
          "execution_count": 41
        }
      ]
    },
    {
      "metadata": {
        "id": "er9oMwKjzZk8",
        "colab_type": "code",
        "colab": {}
      },
      "cell_type": "code",
      "source": [
        ""
      ],
      "execution_count": 0,
      "outputs": []
    }
  ]
}
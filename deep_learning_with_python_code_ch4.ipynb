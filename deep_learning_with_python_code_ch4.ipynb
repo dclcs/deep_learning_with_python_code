{
  "nbformat": 4,
  "nbformat_minor": 0,
  "metadata": {
    "colab": {
      "name": "deep_learning_with_python_code_ch4.ipynb",
      "version": "0.3.2",
      "provenance": [],
      "collapsed_sections": []
    },
    "kernelspec": {
      "name": "python3",
      "display_name": "Python 3"
    },
    "accelerator": "TPU"
  },
  "cells": [
    {
      "metadata": {
        "id": "3I3hVB2hRCzv",
        "colab_type": "text"
      },
      "cell_type": "markdown",
      "source": [
        "### 4.2"
      ]
    },
    {
      "metadata": {
        "id": "bbFNx4-cRF34",
        "colab_type": "text"
      },
      "cell_type": "markdown",
      "source": [
        "#### 4.2.1"
      ]
    },
    {
      "metadata": {
        "id": "QS4wHeRQRNcU",
        "colab_type": "code",
        "colab": {}
      },
      "cell_type": "code",
      "source": [
        "import numpy as np"
      ],
      "execution_count": 0,
      "outputs": []
    },
    {
      "metadata": {
        "id": "l3aOkSGDQ48B",
        "colab_type": "code",
        "colab": {}
      },
      "cell_type": "code",
      "source": [
        "def mean_squared_error(y, t):\n",
        "  return 0.5 * np.sum((y - t) ** 2)"
      ],
      "execution_count": 0,
      "outputs": []
    },
    {
      "metadata": {
        "id": "JMGfymChRR7E",
        "colab_type": "code",
        "colab": {
          "base_uri": "https://localhost:8080/",
          "height": 35
        },
        "outputId": "f24d829d-7bcf-458a-d7f9-44e467f45967"
      },
      "cell_type": "code",
      "source": [
        "t = [0,0,1,0,0,0,0,0,0,0]\n",
        "y = [0.1,0.05,0.6,0.0,0.05,0.1,0.0,0.1,0.0,0.0] ## '2'的概率最高\n",
        "mean_squared_error(np.array(y), np.array(t))\n",
        "# print(len(y))\n",
        "# print(len(t))"
      ],
      "execution_count": 6,
      "outputs": [
        {
          "output_type": "execute_result",
          "data": {
            "text/plain": [
              "0.09750000000000003"
            ]
          },
          "metadata": {
            "tags": []
          },
          "execution_count": 6
        }
      ]
    },
    {
      "metadata": {
        "id": "Lggd5dp-Rc80",
        "colab_type": "code",
        "colab": {
          "base_uri": "https://localhost:8080/",
          "height": 35
        },
        "outputId": "b533467f-f2ac-4a2f-8050-5e106936d455"
      },
      "cell_type": "code",
      "source": [
        "y = [0.1,0.05,0.1,0.0,0.05,0.1,0.0,0.6,0.0,0.0]## '7'的概率最高\n",
        "mean_squared_error(np.array(y), np.array(t))"
      ],
      "execution_count": 7,
      "outputs": [
        {
          "output_type": "execute_result",
          "data": {
            "text/plain": [
              "0.5975"
            ]
          },
          "metadata": {
            "tags": []
          },
          "execution_count": 7
        }
      ]
    },
    {
      "metadata": {
        "id": "id1Ul7khS2Gy",
        "colab_type": "text"
      },
      "cell_type": "markdown",
      "source": [
        "#### 4.2.2"
      ]
    },
    {
      "metadata": {
        "id": "TBnxRToySAvL",
        "colab_type": "code",
        "colab": {
          "base_uri": "https://localhost:8080/",
          "height": 35
        },
        "outputId": "eabe596a-2eda-47d5-b1ef-cbdaa283c55a"
      },
      "cell_type": "code",
      "source": [
        "x = np.arange(0.1, 1.1, 0.1)\n",
        "x"
      ],
      "execution_count": 14,
      "outputs": [
        {
          "output_type": "execute_result",
          "data": {
            "text/plain": [
              "array([0.1, 0.2, 0.3, 0.4, 0.5, 0.6, 0.7, 0.8, 0.9, 1. ])"
            ]
          },
          "metadata": {
            "tags": []
          },
          "execution_count": 14
        }
      ]
    },
    {
      "metadata": {
        "id": "IsmmnPmaS_bU",
        "colab_type": "code",
        "colab": {
          "base_uri": "https://localhost:8080/",
          "height": 53
        },
        "outputId": "60584579-8dd9-48aa-8796-7c348414c439"
      },
      "cell_type": "code",
      "source": [
        "y = np.log(x)\n",
        "y"
      ],
      "execution_count": 15,
      "outputs": [
        {
          "output_type": "execute_result",
          "data": {
            "text/plain": [
              "array([-2.30258509, -1.60943791, -1.2039728 , -0.91629073, -0.69314718,\n",
              "       -0.51082562, -0.35667494, -0.22314355, -0.10536052,  0.        ])"
            ]
          },
          "metadata": {
            "tags": []
          },
          "execution_count": 15
        }
      ]
    },
    {
      "metadata": {
        "id": "Sduy5HkyTiSr",
        "colab_type": "code",
        "colab": {
          "base_uri": "https://localhost:8080/",
          "height": 347
        },
        "outputId": "322a5e5e-9347-4100-c890-c522bbb2c73f"
      },
      "cell_type": "code",
      "source": [
        "import matplotlib.pyplot as plt\n",
        "plt.plot(x, y)\n",
        "plt.show()"
      ],
      "execution_count": 16,
      "outputs": [
        {
          "output_type": "display_data",
          "data": {
            "image/png": "[encoded data removed]",
            "text/plain": [
              "<Figure size 576x396 with 1 Axes>"
            ]
          },
          "metadata": {
            "tags": []
          }
        }
      ]
    },
    {
      "metadata": {
        "id": "SGZpyb_STonL",
        "colab_type": "code",
        "colab": {}
      },
      "cell_type": "code",
      "source": [
        "def cross_entropy_error(y, t):\n",
        "  delta = 1e-7\n",
        "  return -np.sum(t * np.log(y + delta))"
      ],
      "execution_count": 0,
      "outputs": []
    },
    {
      "metadata": {
        "id": "ZooFJ3T2T_YL",
        "colab_type": "code",
        "colab": {
          "base_uri": "https://localhost:8080/",
          "height": 35
        },
        "outputId": "86089640-31c4-4611-b36a-9c2de22b88b3"
      },
      "cell_type": "code",
      "source": [
        "t = [0,0,1,0,0,0,0,0,0,0]\n",
        "y = [0.1,0.05,0.6,0.0,0.05,0.1,0.0,0.1,0.0,0.0]\n",
        "cross_entropy_error(np.array(y), np.array(t))"
      ],
      "execution_count": 19,
      "outputs": [
        {
          "output_type": "execute_result",
          "data": {
            "text/plain": [
              "0.510825457099338"
            ]
          },
          "metadata": {
            "tags": []
          },
          "execution_count": 19
        }
      ]
    },
    {
      "metadata": {
        "id": "i91RWysvUFR6",
        "colab_type": "code",
        "colab": {
          "base_uri": "https://localhost:8080/",
          "height": 35
        },
        "outputId": "df4aa7b0-1f3d-4f78-88d0-7378ae26cfc5"
      },
      "cell_type": "code",
      "source": [
        "y = [0.1,0.05,0.1,0.0,0.05,0.1,0.0,0.6,0.0,0.0]\n",
        "cross_entropy_error(np.array(y), np.array(t))"
      ],
      "execution_count": 20,
      "outputs": [
        {
          "output_type": "execute_result",
          "data": {
            "text/plain": [
              "2.302584092994546"
            ]
          },
          "metadata": {
            "tags": []
          },
          "execution_count": 20
        }
      ]
    },
    {
      "metadata": {
        "id": "oWnik2CTWCzZ",
        "colab_type": "text"
      },
      "cell_type": "markdown",
      "source": [
        "#### 4.2.4"
      ]
    },
    {
      "metadata": {
        "id": "n6-XQ-6uWqCl",
        "colab_type": "text"
      },
      "cell_type": "markdown",
      "source": [
        "##### one-hot , batch_size"
      ]
    },
    {
      "metadata": {
        "id": "199SyswlUNzS",
        "colab_type": "code",
        "colab": {}
      },
      "cell_type": "code",
      "source": [
        "def cross_entropy_error(y, t):\n",
        "  if y.ndim == 1:\n",
        "    t = t.reshape(1, t.size)\n",
        "    y = y.reshape(1, y.size)\n",
        "  batch_size = y.shape[0]\n",
        "  return -np.sum(t * np.log(y + 1e-7)) / batch_size"
      ],
      "execution_count": 0,
      "outputs": []
    },
    {
      "metadata": {
        "id": "80V7mrxuWtN1",
        "colab_type": "text"
      },
      "cell_type": "markdown",
      "source": [
        "##### non-one-hot"
      ]
    },
    {
      "metadata": {
        "id": "hsck6gO4WvUa",
        "colab_type": "code",
        "colab": {}
      },
      "cell_type": "code",
      "source": [
        "def cross_entropy_error(y, t):\n",
        "  if y.ndim == 1:\n",
        "    t = t.reshape(1, t.size)\n",
        "    y = y.reshape(1, y.size)\n",
        "  batch_size = y.shape[0]\n",
        "  return -np.sum(np.log(y[np.arange(batch_size), t] + 1e-7)) / batch_size"
      ],
      "execution_count": 0,
      "outputs": []
    },
    {
      "metadata": {
        "id": "MxBJg9UCYJiM",
        "colab_type": "text"
      },
      "cell_type": "markdown",
      "source": [
        "### 4.3"
      ]
    },
    {
      "metadata": {
        "id": "Egtkru7nYLK9",
        "colab_type": "text"
      },
      "cell_type": "markdown",
      "source": [
        "#### 4.3.1"
      ]
    },
    {
      "metadata": {
        "id": "suRew8EMW9X6",
        "colab_type": "code",
        "colab": {}
      },
      "cell_type": "code",
      "source": [
        "def numerical_diff(f, x):\n",
        "  h = 10e-50\n",
        "  return (f(x+h) - f(x)) / h"
      ],
      "execution_count": 0,
      "outputs": []
    },
    {
      "metadata": {
        "id": "9n8eyyH9YZMx",
        "colab_type": "code",
        "colab": {}
      },
      "cell_type": "code",
      "source": [
        "def numerical_diff(f, x):\n",
        "  h = 1e-4\n",
        "  return (f(x+h) - f(x-h)) / (2 * h)"
      ],
      "execution_count": 0,
      "outputs": []
    },
    {
      "metadata": {
        "id": "Gm4rnGXLZ1cG",
        "colab_type": "text"
      },
      "cell_type": "markdown",
      "source": [
        "#### 4.3.2"
      ]
    },
    {
      "metadata": {
        "id": "tzeXwiueZILx",
        "colab_type": "code",
        "colab": {}
      },
      "cell_type": "code",
      "source": [
        "def function_1(x):\n",
        "  return 0.01*x**2 + 0.1*x"
      ],
      "execution_count": 0,
      "outputs": []
    },
    {
      "metadata": {
        "id": "xkFY0szlZ73K",
        "colab_type": "code",
        "colab": {
          "base_uri": "https://localhost:8080/",
          "height": 361
        },
        "outputId": "e971dfda-7427-4ff6-bd23-d5cbdc3e24ae"
      },
      "cell_type": "code",
      "source": [
        "x = np.arange(0.0, 20.1, 0.1)\n",
        "y = function_1(x)\n",
        "plt.xlabel(\"x\")\n",
        "plt.ylabel(\"f(x)\")\n",
        "plt.plot(x,y)\n",
        "plt.show()"
      ],
      "execution_count": 27,
      "outputs": [
        {
          "output_type": "display_data",
          "data": {
            "image/png": "[encoded data removed]",
            "text/plain": [
              "<Figure size 576x396 with 1 Axes>"
            ]
          },
          "metadata": {
            "tags": []
          }
        }
      ]
    },
    {
      "metadata": {
        "id": "82UvQCExaJVS",
        "colab_type": "code",
        "colab": {}
      },
      "cell_type": "code",
      "source": [
        "k1 = numerical_diff(function_1, 5)"
      ],
      "execution_count": 0,
      "outputs": []
    },
    {
      "metadata": {
        "id": "7ZMM7JgjaPZS",
        "colab_type": "code",
        "colab": {}
      },
      "cell_type": "code",
      "source": [
        "k2 = numerical_diff(function_1, 10)"
      ],
      "execution_count": 0,
      "outputs": []
    },
    {
      "metadata": {
        "id": "jUcMtMk7aT4S",
        "colab_type": "code",
        "colab": {
          "base_uri": "https://localhost:8080/",
          "height": 361
        },
        "outputId": "a88b570b-c440-4ad5-b96f-7e6206dcace7"
      },
      "cell_type": "code",
      "source": [
        "x = np.arange(0.0, 20.1, 0.1)\n",
        "y = function_1(x)\n",
        "plt.xlabel(\"x\")\n",
        "plt.ylabel(\"f(x)\")\n",
        "l1 = k1*(x - 5) + function_1(5)\n",
        "plt.plot(x,l1, c='r')\n",
        "plt.plot(x,y)\n",
        "plt.show()"
      ],
      "execution_count": 34,
      "outputs": [
        {
          "output_type": "display_data",
          "data": {
            "image/png": "[encoded data removed]",
            "text/plain": [
              "<Figure size 576x396 with 1 Axes>"
            ]
          },
          "metadata": {
            "tags": []
          }
        }
      ]
    },
    {
      "metadata": {
        "id": "GaKJdcoJatgD",
        "colab_type": "code",
        "colab": {
          "base_uri": "https://localhost:8080/",
          "height": 361
        },
        "outputId": "18427528-c996-4bc6-8ebc-6eeb369958d0"
      },
      "cell_type": "code",
      "source": [
        "x = np.arange(0.0, 20.1, 0.1)\n",
        "y = function_1(x)\n",
        "plt.xlabel(\"x\")\n",
        "plt.ylabel(\"f(x)\")\n",
        "l2 = k2*(x - 10) + function_1(10)\n",
        "plt.plot(x,l2, c='r')\n",
        "plt.plot(x,y)\n",
        "plt.show()"
      ],
      "execution_count": 35,
      "outputs": [
        {
          "output_type": "display_data",
          "data": {
            "image/png": "[encoded data removed]",
            "text/plain": [
              "<Figure size 576x396 with 1 Axes>"
            ]
          },
          "metadata": {
            "tags": []
          }
        }
      ]
    },
    {
      "metadata": {
        "id": "BmYTYPGRbAUl",
        "colab_type": "text"
      },
      "cell_type": "markdown",
      "source": [
        "#### 4.3.3"
      ]
    },
    {
      "metadata": {
        "id": "hvAojF3Ha2e5",
        "colab_type": "code",
        "colab": {}
      },
      "cell_type": "code",
      "source": [
        "def function_2(x):\n",
        "  return x[0] ** 2 + x[1] ** 2"
      ],
      "execution_count": 0,
      "outputs": []
    },
    {
      "metadata": {
        "id": "HTFYUipjbH6h",
        "colab_type": "code",
        "colab": {
          "base_uri": "https://localhost:8080/",
          "height": 427
        },
        "outputId": "6e2d6893-a9c5-46c5-e1c7-0b81d7d27aac"
      },
      "cell_type": "code",
      "source": [
        "from mpl_toolkits.mplot3d import Axes3D\n",
        "\n",
        "X = np.arange(-3, 3, 0.25)\n",
        "Y = np.arange(-3, 3, 0.25)\n",
        "X, Y = np.meshgrid(X, Y)\n",
        "R = function_2([X,Y])\n",
        "fig = plt.figure()\n",
        "ax = Axes3D(fig)\n",
        "ax.plot_surface(X, Y, R, rstride=1, cstride=1, cmap='rainbow')\n",
        "plt.show()"
      ],
      "execution_count": 45,
      "outputs": [
        {
          "output_type": "display_data",
          "data": {
            "image/png": "[encoded data removed]",
            "text/plain": [
              "<Figure size 576x396 with 1 Axes>"
            ]
          },
          "metadata": {
            "tags": []
          }
        }
      ]
    },
    {
      "metadata": {
        "id": "sKzOAYBwc86A",
        "colab_type": "text"
      },
      "cell_type": "markdown",
      "source": [
        "### 4.4"
      ]
    },
    {
      "metadata": {
        "id": "JyHFPezVbji6",
        "colab_type": "code",
        "colab": {}
      },
      "cell_type": "code",
      "source": [
        "def numerical_gradient(f, x):\n",
        "  h = 1e-4\n",
        "  grad = np.zeros_like(x)\n",
        "  \n",
        "  for idx in range(x.size):\n",
        "    tmp_val = x[idx]\n",
        "    # f(x + h)计算\n",
        "    x[idx] = tmp_val + h\n",
        "    fxh1 = f(x)\n",
        "    \n",
        "    # f(x-h)计算\n",
        "    x[idx] = tmp_val - h\n",
        "    fxh2 = f(x)\n",
        "    \n",
        "    grad[idx] = (fxh1 - fxh2) / (2*h)\n",
        "    x[idx] = tmp_val\n",
        "  \n",
        "  return grad"
      ],
      "execution_count": 0,
      "outputs": []
    },
    {
      "metadata": {
        "id": "DI5HyDWSdcHq",
        "colab_type": "code",
        "colab": {
          "base_uri": "https://localhost:8080/",
          "height": 35
        },
        "outputId": "6a92c937-6f6c-4023-95c5-36aff4719ae7"
      },
      "cell_type": "code",
      "source": [
        "numerical_gradient(function_2, np.array([3.0, 4.0]))"
      ],
      "execution_count": 49,
      "outputs": [
        {
          "output_type": "execute_result",
          "data": {
            "text/plain": [
              "array([6., 8.])"
            ]
          },
          "metadata": {
            "tags": []
          },
          "execution_count": 49
        }
      ]
    },
    {
      "metadata": {
        "id": "5ecmCbYsdjtK",
        "colab_type": "code",
        "colab": {
          "base_uri": "https://localhost:8080/",
          "height": 35
        },
        "outputId": "e12c6d25-1d21-4583-916c-52502d73289c"
      },
      "cell_type": "code",
      "source": [
        "numerical_gradient(function_2, np.array([0.0, 2.0]))"
      ],
      "execution_count": 50,
      "outputs": [
        {
          "output_type": "execute_result",
          "data": {
            "text/plain": [
              "array([0., 4.])"
            ]
          },
          "metadata": {
            "tags": []
          },
          "execution_count": 50
        }
      ]
    },
    {
      "metadata": {
        "id": "kjHqDSrse5Hy",
        "colab_type": "text"
      },
      "cell_type": "markdown",
      "source": [
        "#### 4.4.1"
      ]
    },
    {
      "metadata": {
        "id": "PuhrqCNHd1yY",
        "colab_type": "code",
        "colab": {}
      },
      "cell_type": "code",
      "source": [
        "def gradient_descent(f, init_x, lr = 0.01, step_num=100):\n",
        "  x = init_x\n",
        "  signal=[]\n",
        "  for i in range(step_num):\n",
        "    grad = numerical_gradient(f, x)\n",
        "    x -= lr * grad\n",
        "    signal.append([x])\n",
        "  return x,signal"
      ],
      "execution_count": 0,
      "outputs": []
    },
    {
      "metadata": {
        "id": "wz6OnsBPfIrh",
        "colab_type": "code",
        "colab": {}
      },
      "cell_type": "code",
      "source": [
        "def function_2(x):\n",
        "  return x[0] ** 2 + x[1] ** 2"
      ],
      "execution_count": 0,
      "outputs": []
    },
    {
      "metadata": {
        "id": "4MVwFYAGfNqh",
        "colab_type": "code",
        "colab": {
          "base_uri": "https://localhost:8080/",
          "height": 1817
        },
        "outputId": "e67f1c8f-965d-4629-8c94-dee277525dde"
      },
      "cell_type": "code",
      "source": [
        "init_x = np.array([-3.0, 4.0])\n",
        "_, signal = gradient_descent(function_2, init_x=init_x, lr=0.1, step_num=100)\n",
        "signal"
      ],
      "execution_count": 74,
      "outputs": [
        {
          "output_type": "execute_result",
          "data": {
            "text/plain": [
              "[[array([-6.11110793e-10,  8.14814391e-10])],\n",
              " [array([-6.11110793e-10,  8.14814391e-10])],\n",
              " [array([-6.11110793e-10,  8.14814391e-10])],\n",
              " [array([-6.11110793e-10,  8.14814391e-10])],\n",
              " [array([-6.11110793e-10,  8.14814391e-10])],\n",
              " [array([-6.11110793e-10,  8.14814391e-10])],\n",
              " [array([-6.11110793e-10,  8.14814391e-10])],\n",
              " [array([-6.11110793e-10,  8.14814391e-10])],\n",
              " [array([-6.11110793e-10,  8.14814391e-10])],\n",
              " [array([-6.11110793e-10,  8.14814391e-10])],\n",
              " [array([-6.11110793e-10,  8.14814391e-10])],\n",
              " [array([-6.11110793e-10,  8.14814391e-10])],\n",
              " [array([-6.11110793e-10,  8.14814391e-10])],\n",
              " [array([-6.11110793e-10,  8.14814391e-10])],\n",
              " [array([-6.11110793e-10,  8.14814391e-10])],\n",
              " [array([-6.11110793e-10,  8.14814391e-10])],\n",
              " [array([-6.11110793e-10,  8.14814391e-10])],\n",
              " [array([-6.11110793e-10,  8.14814391e-10])],\n",
              " [array([-6.11110793e-10,  8.14814391e-10])],\n",
              " [array([-6.11110793e-10,  8.14814391e-10])],\n",
              " [array([-6.11110793e-10,  8.14814391e-10])],\n",
              " [array([-6.11110793e-10,  8.14814391e-10])],\n",
              " [array([-6.11110793e-10,  8.14814391e-10])],\n",
              " [array([-6.11110793e-10,  8.14814391e-10])],\n",
              " [array([-6.11110793e-10,  8.14814391e-10])],\n",
              " [array([-6.11110793e-10,  8.14814391e-10])],\n",
              " [array([-6.11110793e-10,  8.14814391e-10])],\n",
              " [array([-6.11110793e-10,  8.14814391e-10])],\n",
              " [array([-6.11110793e-10,  8.14814391e-10])],\n",
              " [array([-6.11110793e-10,  8.14814391e-10])],\n",
              " [array([-6.11110793e-10,  8.14814391e-10])],\n",
              " [array([-6.11110793e-10,  8.14814391e-10])],\n",
              " [array([-6.11110793e-10,  8.14814391e-10])],\n",
              " [array([-6.11110793e-10,  8.14814391e-10])],\n",
              " [array([-6.11110793e-10,  8.14814391e-10])],\n",
              " [array([-6.11110793e-10,  8.14814391e-10])],\n",
              " [array([-6.11110793e-10,  8.14814391e-10])],\n",
              " [array([-6.11110793e-10,  8.14814391e-10])],\n",
              " [array([-6.11110793e-10,  8.14814391e-10])],\n",
              " [array([-6.11110793e-10,  8.14814391e-10])],\n",
              " [array([-6.11110793e-10,  8.14814391e-10])],\n",
              " [array([-6.11110793e-10,  8.14814391e-10])],\n",
              " [array([-6.11110793e-10,  8.14814391e-10])],\n",
              " [array([-6.11110793e-10,  8.14814391e-10])],\n",
              " [array([-6.11110793e-10,  8.14814391e-10])],\n",
              " [array([-6.11110793e-10,  8.14814391e-10])],\n",
              " [array([-6.11110793e-10,  8.14814391e-10])],\n",
              " [array([-6.11110793e-10,  8.14814391e-10])],\n",
              " [array([-6.11110793e-10,  8.14814391e-10])],\n",
              " [array([-6.11110793e-10,  8.14814391e-10])],\n",
              " [array([-6.11110793e-10,  8.14814391e-10])],\n",
              " [array([-6.11110793e-10,  8.14814391e-10])],\n",
              " [array([-6.11110793e-10,  8.14814391e-10])],\n",
              " [array([-6.11110793e-10,  8.14814391e-10])],\n",
              " [array([-6.11110793e-10,  8.14814391e-10])],\n",
              " [array([-6.11110793e-10,  8.14814391e-10])],\n",
              " [array([-6.11110793e-10,  8.14814391e-10])],\n",
              " [array([-6.11110793e-10,  8.14814391e-10])],\n",
              " [array([-6.11110793e-10,  8.14814391e-10])],\n",
              " [array([-6.11110793e-10,  8.14814391e-10])],\n",
              " [array([-6.11110793e-10,  8.14814391e-10])],\n",
              " [array([-6.11110793e-10,  8.14814391e-10])],\n",
              " [array([-6.11110793e-10,  8.14814391e-10])],\n",
              " [array([-6.11110793e-10,  8.14814391e-10])],\n",
              " [array([-6.11110793e-10,  8.14814391e-10])],\n",
              " [array([-6.11110793e-10,  8.14814391e-10])],\n",
              " [array([-6.11110793e-10,  8.14814391e-10])],\n",
              " [array([-6.11110793e-10,  8.14814391e-10])],\n",
              " [array([-6.11110793e-10,  8.14814391e-10])],\n",
              " [array([-6.11110793e-10,  8.14814391e-10])],\n",
              " [array([-6.11110793e-10,  8.14814391e-10])],\n",
              " [array([-6.11110793e-10,  8.14814391e-10])],\n",
              " [array([-6.11110793e-10,  8.14814391e-10])],\n",
              " [array([-6.11110793e-10,  8.14814391e-10])],\n",
              " [array([-6.11110793e-10,  8.14814391e-10])],\n",
              " [array([-6.11110793e-10,  8.14814391e-10])],\n",
              " [array([-6.11110793e-10,  8.14814391e-10])],\n",
              " [array([-6.11110793e-10,  8.14814391e-10])],\n",
              " [array([-6.11110793e-10,  8.14814391e-10])],\n",
              " [array([-6.11110793e-10,  8.14814391e-10])],\n",
              " [array([-6.11110793e-10,  8.14814391e-10])],\n",
              " [array([-6.11110793e-10,  8.14814391e-10])],\n",
              " [array([-6.11110793e-10,  8.14814391e-10])],\n",
              " [array([-6.11110793e-10,  8.14814391e-10])],\n",
              " [array([-6.11110793e-10,  8.14814391e-10])],\n",
              " [array([-6.11110793e-10,  8.14814391e-10])],\n",
              " [array([-6.11110793e-10,  8.14814391e-10])],\n",
              " [array([-6.11110793e-10,  8.14814391e-10])],\n",
              " [array([-6.11110793e-10,  8.14814391e-10])],\n",
              " [array([-6.11110793e-10,  8.14814391e-10])],\n",
              " [array([-6.11110793e-10,  8.14814391e-10])],\n",
              " [array([-6.11110793e-10,  8.14814391e-10])],\n",
              " [array([-6.11110793e-10,  8.14814391e-10])],\n",
              " [array([-6.11110793e-10,  8.14814391e-10])],\n",
              " [array([-6.11110793e-10,  8.14814391e-10])],\n",
              " [array([-6.11110793e-10,  8.14814391e-10])],\n",
              " [array([-6.11110793e-10,  8.14814391e-10])],\n",
              " [array([-6.11110793e-10,  8.14814391e-10])],\n",
              " [array([-6.11110793e-10,  8.14814391e-10])],\n",
              " [array([-6.11110793e-10,  8.14814391e-10])]]"
            ]
          },
          "metadata": {
            "tags": []
          },
          "execution_count": 74
        }
      ]
    },
    {
      "metadata": {
        "id": "mHimpqNIfXeY",
        "colab_type": "code",
        "colab": {
          "base_uri": "https://localhost:8080/",
          "height": 347
        },
        "outputId": "7bbe9fe2-53b6-4f41-ad3f-c0caf496dc29"
      },
      "cell_type": "code",
      "source": [
        "for d in signal:\n",
        "  plt.scatter(d[0][0],d[0][1])\n",
        "# plt.show()"
      ],
      "execution_count": 73,
      "outputs": [
        {
          "output_type": "display_data",
          "data": {
            "image/png": "[encoded data removed]",
            "text/plain": [
              "<Figure size 576x396 with 1 Axes>"
            ]
          },
          "metadata": {
            "tags": []
          }
        }
      ]
    },
    {
      "metadata": {
        "id": "HGma9CzThPYN",
        "colab_type": "text"
      },
      "cell_type": "markdown",
      "source": [
        "#### 4.4.2"
      ]
    },
    {
      "metadata": {
        "id": "qlTHGdcmgVPQ",
        "colab_type": "code",
        "colab": {}
      },
      "cell_type": "code",
      "source": [
        "def softmax(a):\n",
        "  exp_a = np.exp(a)\n",
        "  sum_exp_a = np.sum(exp_a)\n",
        "  y = exp_a / sum_exp_a\n",
        "  return y"
      ],
      "execution_count": 0,
      "outputs": []
    },
    {
      "metadata": {
        "id": "VJIVhGeEhUx4",
        "colab_type": "code",
        "colab": {}
      },
      "cell_type": "code",
      "source": [
        "class simpleNet:\n",
        "  def __init__(self):\n",
        "    self.W = np.random.randn(2, 3)\n",
        "  def predict(self, x):\n",
        "    return np.dot(x, self.W)\n",
        "  def loss(self, x, t):\n",
        "    z = self.predict(x)\n",
        "    y = softmax(z)\n",
        "    loss = cross_entropy_error(y, t)\n",
        "\n",
        "    return loss"
      ],
      "execution_count": 0,
      "outputs": []
    },
    {
      "metadata": {
        "id": "HbyeSlKmha-o",
        "colab_type": "code",
        "colab": {
          "base_uri": "https://localhost:8080/",
          "height": 53
        },
        "outputId": "52e1a971-4b3d-472f-aa1c-7c24dcfd056c"
      },
      "cell_type": "code",
      "source": [
        "net = simpleNet()\n",
        "print(net.W)"
      ],
      "execution_count": 88,
      "outputs": [
        {
          "output_type": "stream",
          "text": [
            "[[ 0.35252803 -0.43172008 -0.58464237]\n",
            " [-0.7725141  -0.31628595  0.22019968]]\n"
          ],
          "name": "stdout"
        }
      ]
    },
    {
      "metadata": {
        "id": "kSs-h8_EicBx",
        "colab_type": "code",
        "colab": {}
      },
      "cell_type": "code",
      "source": [
        "x = np.array([0.6,0.9])\n",
        "p = net.predict(x)"
      ],
      "execution_count": 0,
      "outputs": []
    },
    {
      "metadata": {
        "id": "CGqXYqrkihHY",
        "colab_type": "code",
        "colab": {
          "base_uri": "https://localhost:8080/",
          "height": 35
        },
        "outputId": "cea23b94-7736-421f-ffee-9b3552370480"
      },
      "cell_type": "code",
      "source": [
        "print(p)"
      ],
      "execution_count": 90,
      "outputs": [
        {
          "output_type": "stream",
          "text": [
            "[-0.48374587 -0.5436894  -0.1526057 ]\n"
          ],
          "name": "stdout"
        }
      ]
    },
    {
      "metadata": {
        "id": "_H3KOv1FiiVx",
        "colab_type": "code",
        "colab": {
          "base_uri": "https://localhost:8080/",
          "height": 35
        },
        "outputId": "4c5fae04-bb7c-4ddd-bb5b-da0ba07accc0"
      },
      "cell_type": "code",
      "source": [
        "np.argmax(p)"
      ],
      "execution_count": 91,
      "outputs": [
        {
          "output_type": "execute_result",
          "data": {
            "text/plain": [
              "2"
            ]
          },
          "metadata": {
            "tags": []
          },
          "execution_count": 91
        }
      ]
    },
    {
      "metadata": {
        "id": "HoeSps84ilWo",
        "colab_type": "code",
        "colab": {}
      },
      "cell_type": "code",
      "source": [
        "t = np.array([0,0,1])"
      ],
      "execution_count": 0,
      "outputs": []
    },
    {
      "metadata": {
        "id": "hrgNSns7iohA",
        "colab_type": "code",
        "colab": {
          "base_uri": "https://localhost:8080/",
          "height": 35
        },
        "outputId": "7c3691a2-6ac4-4795-b361-142b2f4b1b44"
      },
      "cell_type": "code",
      "source": [
        "net.loss(x, t)"
      ],
      "execution_count": 93,
      "outputs": [
        {
          "output_type": "execute_result",
          "data": {
            "text/plain": [
              "3.6727961914464373"
            ]
          },
          "metadata": {
            "tags": []
          },
          "execution_count": 93
        }
      ]
    },
    {
      "metadata": {
        "id": "EgTlpGqQjrMo",
        "colab_type": "text"
      },
      "cell_type": "markdown",
      "source": [
        "### 4.5"
      ]
    },
    {
      "metadata": {
        "id": "f2ImX8u8j_Lh",
        "colab_type": "code",
        "colab": {}
      },
      "cell_type": "code",
      "source": [
        "import numpy as np\n",
        "def sigmoid(x):\n",
        "    return 1 / (1 + np.exp(-x))\n",
        "def softmax(x):\n",
        "    if x.ndim == 2:\n",
        "        x = x.T\n",
        "        x = x - np.max(x, axis=0)\n",
        "        y = np.exp(x) / np.sum(np.exp(x), axis=0)\n",
        "        return y.T \n",
        "\n",
        "    x = x - np.max(x) # 溢出对策\n",
        "    return np.exp(x) / np.sum(np.exp(x))\n",
        "def cross_entropy_error(y, t):\n",
        "    if y.ndim == 1:\n",
        "        t = t.reshape(1, t.size)\n",
        "        y = y.reshape(1, y.size)\n",
        "        \n",
        "    # 监督数据是one-hot-vector的情况下，转换为正确解标签的索引\n",
        "    if t.size == y.size:\n",
        "        t = t.argmax(axis=1)\n",
        "             \n",
        "    batch_size = y.shape[0]\n",
        "    return -np.sum(np.log(y[np.arange(batch_size), t] + 1e-7)) / batch_size\n",
        "def numerical_gradient(f, x):\n",
        "    h = 1e-4 # 0.0001\n",
        "    grad = np.zeros_like(x)\n",
        "    \n",
        "    it = np.nditer(x, flags=['multi_index'], op_flags=['readwrite'])\n",
        "    while not it.finished:\n",
        "        idx = it.multi_index\n",
        "        tmp_val = x[idx]\n",
        "        x[idx] = float(tmp_val) + h\n",
        "        fxh1 = f(x) # f(x+h)\n",
        "        \n",
        "        x[idx] = tmp_val - h \n",
        "        fxh2 = f(x) # f(x-h)\n",
        "        grad[idx] = (fxh1 - fxh2) / (2*h)\n",
        "        \n",
        "        x[idx] = tmp_val # 还原值\n",
        "        it.iternext()   \n",
        "        \n",
        "    return grad"
      ],
      "execution_count": 0,
      "outputs": []
    },
    {
      "metadata": {
        "id": "IHRyLk1aip-Y",
        "colab_type": "code",
        "colab": {}
      },
      "cell_type": "code",
      "source": [
        "class TwoLayerNet:\n",
        "  def __init__(self, input_size, hidden_size, output_size, weight_init_std=0.01):\n",
        "        # 初始化权重\n",
        "        self.params = {}\n",
        "        self.params['W1'] = weight_init_std * np.random.randn(input_size, hidden_size)\n",
        "        self.params['b1'] = np.zeros(hidden_size)\n",
        "        self.params['W2'] = weight_init_std * np.random.randn(hidden_size, output_size)\n",
        "        self.params['b2'] = np.zeros(output_size)\n",
        "  def predict(self, x):\n",
        "        W1, W2 = self.params['W1'], self.params['W2']\n",
        "        b1, b2 = self.params['b1'], self.params['b2']\n",
        "    \n",
        "        a1 = np.dot(x, W1) + b1\n",
        "        z1 = sigmoid(a1)\n",
        "        a2 = np.dot(z1, W2) + b2\n",
        "        y = softmax(a2)\n",
        "        \n",
        "        return y\n",
        " # x:输入数据, t:监督数据\n",
        "  def loss(self, x, t):\n",
        "      y = self.predict(x)\n",
        "\n",
        "      return cross_entropy_error(y, t)\n",
        "\n",
        "  def accuracy(self, x, t):\n",
        "      y = self.predict(x)\n",
        "      y = np.argmax(y, axis=1)\n",
        "      t = np.argmax(t, axis=1)\n",
        "\n",
        "      accuracy = np.sum(y == t) / float(x.shape[0])\n",
        "      return accuracy\n",
        "\n",
        "  # x:输入数据, t:监督数据\n",
        "  def numerical_gradient(self, x, t):\n",
        "      loss_W = lambda W: self.loss(x, t)\n",
        "\n",
        "      grads = {}\n",
        "      grads['W1'] = numerical_gradient(loss_W, self.params['W1'])\n",
        "      grads['b1'] = numerical_gradient(loss_W, self.params['b1'])\n",
        "      grads['W2'] = numerical_gradient(loss_W, self.params['W2'])\n",
        "      grads['b2'] = numerical_gradient(loss_W, self.params['b2'])\n",
        "\n",
        "      return grads"
      ],
      "execution_count": 0,
      "outputs": []
    },
    {
      "metadata": {
        "id": "GXz37rCUkSZR",
        "colab_type": "code",
        "colab": {}
      },
      "cell_type": "code",
      "source": [
        "net = TwoLayerNet(input_size=784, hidden_size=100,output_size=10)\n",
        "x = np.random.rand(100, 784)"
      ],
      "execution_count": 0,
      "outputs": []
    },
    {
      "metadata": {
        "id": "6L0oAuMjlHwD",
        "colab_type": "code",
        "colab": {}
      },
      "cell_type": "code",
      "source": [
        "y = net.predict(x)"
      ],
      "execution_count": 0,
      "outputs": []
    },
    {
      "metadata": {
        "id": "rpefFZSulOff",
        "colab_type": "code",
        "colab": {}
      },
      "cell_type": "code",
      "source": [
        "t = np.random.rand(100, 10)"
      ],
      "execution_count": 0,
      "outputs": []
    },
    {
      "metadata": {
        "id": "zPzgQhCblVWg",
        "colab_type": "code",
        "colab": {}
      },
      "cell_type": "code",
      "source": [
        "grads = net.numerical_gradient(x, t)"
      ],
      "execution_count": 0,
      "outputs": []
    },
    {
      "metadata": {
        "id": "8in0rdNgld2Z",
        "colab_type": "code",
        "colab": {
          "base_uri": "https://localhost:8080/",
          "height": 35
        },
        "outputId": "b78fcecf-9597-4a9a-a3df-fef1b2c9326b"
      },
      "cell_type": "code",
      "source": [
        "grads['W1'].shape"
      ],
      "execution_count": 8,
      "outputs": [
        {
          "output_type": "execute_result",
          "data": {
            "text/plain": [
              "(784, 100)"
            ]
          },
          "metadata": {
            "tags": []
          },
          "execution_count": 8
        }
      ]
    },
    {
      "metadata": {
        "id": "8PI8fBvAl8qY",
        "colab_type": "code",
        "colab": {}
      },
      "cell_type": "code",
      "source": [
        ""
      ],
      "execution_count": 0,
      "outputs": []
    }
  ]
}
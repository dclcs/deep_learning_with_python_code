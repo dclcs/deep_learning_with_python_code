{
  "nbformat": 4,
  "nbformat_minor": 0,
  "metadata": {
    "colab": {
      "name": "deep_learning_with_python_code_summary_ch1_to_ch5.ipynb",
      "version": "0.3.2",
      "provenance": [],
      "collapsed_sections": []
    },
    "kernelspec": {
      "name": "python3",
      "display_name": "Python 3"
    },
    "accelerator": "TPU"
  },
  "cells": [
    {
      "metadata": {
        "id": "nHoQM2OiRBG9",
        "colab_type": "text"
      },
      "cell_type": "markdown",
      "source": [
        "Ch1到Ch5 的总结<br>\n",
        "目标：用两层神经网络实现"
      ]
    },
    {
      "metadata": {
        "id": "x8wqOFzFSlaG",
        "colab_type": "text"
      },
      "cell_type": "markdown",
      "source": [
        "#### 第一步， 搭建网络架构"
      ]
    },
    {
      "metadata": {
        "id": "nIUh782YT3wa",
        "colab_type": "text"
      },
      "cell_type": "markdown",
      "source": [
        "##### 导入"
      ]
    },
    {
      "metadata": {
        "id": "eio4reOCTNxt",
        "colab_type": "code",
        "colab": {}
      },
      "cell_type": "code",
      "source": [
        "from collections import OrderedDict\n",
        "import numpy as np"
      ],
      "execution_count": 0,
      "outputs": []
    },
    {
      "metadata": {
        "id": "GqlZzpO-VL0K",
        "colab_type": "text"
      },
      "cell_type": "markdown",
      "source": [
        "##### 使用到的层"
      ]
    },
    {
      "metadata": {
        "id": "NDHIgWz2WJ_q",
        "colab_type": "text"
      },
      "cell_type": "markdown",
      "source": [
        "###### Affine"
      ]
    },
    {
      "metadata": {
        "id": "03GQK4_lVOxI",
        "colab_type": "code",
        "colab": {}
      },
      "cell_type": "code",
      "source": [
        "class Affine:\n",
        "  def __init__(self, W, b):\n",
        "    self.W = W\n",
        "    self.b = b\n",
        "    \n",
        "    self.x = None\n",
        "    self.original_x_shape = None\n",
        "    self.dW = None\n",
        "    self.db = None\n",
        "  def forward(self, x):\n",
        "    \n",
        "    self.original_x_shape = x.shape\n",
        "    x = x.reshape(x.shape[0], -1)\n",
        "    self.x = x\n",
        "    out = np.dot(self.x, self.W) + self.b\n",
        "    \n",
        "    return out\n",
        "  def backward(self, dout):\n",
        "    dx = np.dot(dout, self.W.T)\n",
        "    self.dW = np.dot(self.x.T, dout)\n",
        "    self.db = np.sum(dout, axis=0)\n",
        "    dx = dx.reshape(*self.original_x_shape)\n",
        "    return dx"
      ],
      "execution_count": 0,
      "outputs": []
    },
    {
      "metadata": {
        "id": "PyCxjpcDWPQl",
        "colab_type": "text"
      },
      "cell_type": "markdown",
      "source": [
        "###### ReLu"
      ]
    },
    {
      "metadata": {
        "id": "odFfMCqeX-_l",
        "colab_type": "code",
        "colab": {}
      },
      "cell_type": "code",
      "source": [
        "a = np.array([1,2,3,4,5,6])\n",
        "a = a.reshape((2, 3))\n",
        "print(a > 2)\n",
        "c = a > 2\n",
        "b = np.array([-1,-2,-3,5,6,2])\n",
        "b = b.reshape((2,3))\n",
        "print(b[c])"
      ],
      "execution_count": 0,
      "outputs": []
    },
    {
      "metadata": {
        "id": "AzLcP99hWRHO",
        "colab_type": "code",
        "colab": {}
      },
      "cell_type": "code",
      "source": [
        "class Relu:\n",
        "  def __init__(self):\n",
        "    self.mask = None\n",
        "  def forward(self, x):\n",
        "    self.mask = (x <= 0)\n",
        "    out = x.copy()\n",
        "    out[self.mask] = 0\n",
        "    \n",
        "    return out\n",
        "  \n",
        "  def backward(self, dout):\n",
        "    dout[self.mask] = 0\n",
        "    dx = dout\n",
        "    return dx"
      ],
      "execution_count": 0,
      "outputs": []
    },
    {
      "metadata": {
        "id": "JSiy6OdbXqYg",
        "colab_type": "text"
      },
      "cell_type": "markdown",
      "source": [
        "###### Softmax"
      ]
    },
    {
      "metadata": {
        "id": "ovWGANyKXpwU",
        "colab_type": "code",
        "colab": {}
      },
      "cell_type": "code",
      "source": [
        "def softmax(x):\n",
        "  if x.ndim == 2:\n",
        "    x = x.T\n",
        "    x = x - np.max(x, axis=0)\n",
        "    y = np.exp(x) / np.sum(np.exp(x), axis=0)\n",
        "    return y.T\n",
        "  x = x - np.max(x) # 溢出对策\n",
        "  return np.exp(x) / np.sum(np.exp(x))"
      ],
      "execution_count": 0,
      "outputs": []
    },
    {
      "metadata": {
        "id": "67P9gqNXYPK3",
        "colab_type": "text"
      },
      "cell_type": "markdown",
      "source": [
        "###### cross_entropy_error"
      ]
    },
    {
      "metadata": {
        "id": "R9-ShmGK5n-e",
        "colab_type": "code",
        "colab": {}
      },
      "cell_type": "code",
      "source": [
        "a = np.array([[1,2,3],[0,5,6]])\n",
        "print(a)\n",
        "print(a.ndim)\n",
        "print(a.argmax(axis=1))"
      ],
      "execution_count": 0,
      "outputs": []
    },
    {
      "metadata": {
        "id": "nr9SfsFIYT8s",
        "colab_type": "code",
        "colab": {}
      },
      "cell_type": "code",
      "source": [
        "def cross_entropy_error(y, t):\n",
        "  if y.ndim == 1:\n",
        "    t = t.reshape(1, t.size)\n",
        "    y = t.reshape(1, y_size)\n",
        "  if t.size == y.size:\n",
        "    t = t.argmax(axis=1)\n",
        "  batch_size = y.shape[0]\n",
        "  return -np.sum(np.log(y[np.arange(batch_size), t] + 1e-7)) / batch_size"
      ],
      "execution_count": 0,
      "outputs": []
    },
    {
      "metadata": {
        "id": "PS80jR5SWtR3",
        "colab_type": "text"
      },
      "cell_type": "markdown",
      "source": [
        "###### SoftmaxWithLoss"
      ]
    },
    {
      "metadata": {
        "id": "-CRRvhEpWv7Z",
        "colab_type": "code",
        "colab": {}
      },
      "cell_type": "code",
      "source": [
        "class SoftmaxWithLoss:\n",
        "  def __init__(self):\n",
        "    self.loss = None\n",
        "    self.y = None\n",
        "    self.t = None\n",
        "  def forward(self, x, t):\n",
        "    self.t = t\n",
        "    self.y = softmax(x)\n",
        "    self.loss = cross_entropy_error(self.y, self.t)\n",
        "    return self.loss\n",
        "  def backward(self, dout=1):\n",
        "    batch_size = self.t.shape[0]\n",
        "   \n",
        "    if self.t.size == self.y.size:#如果大小相同\n",
        "      dx = (self.y - self.t) / batch_size\n",
        "    else:# 大小不同说明有batch\n",
        "      dx = self.y.copy()\n",
        "      dx[np.arange(batch_size), self.t] -= 1\n",
        "      dx = dx / batch_size\n",
        "    return dx"
      ],
      "execution_count": 0,
      "outputs": []
    },
    {
      "metadata": {
        "id": "PlETL-WncHGz",
        "colab_type": "text"
      },
      "cell_type": "markdown",
      "source": [
        "##### 计算梯度"
      ]
    },
    {
      "metadata": {
        "id": "uHTW8IgLcL0z",
        "colab_type": "code",
        "colab": {}
      },
      "cell_type": "code",
      "source": [
        "def numerical_gradient(f, x):\n",
        "  h = 1e-4\n",
        "  grad = np.zeros_like(x)\n",
        "  it = np.nditer(x , flags=['multi_index'], op_flags=['readwrite'])\n",
        "  while not it.finished:\n",
        "    idx = it.multi_index\n",
        "    tmp_val = x[idx]\n",
        "    x[idx] = float(tmp_val) + h\n",
        "    fxh1 = f(x)\n",
        "    \n",
        "    x[idx] = tmp_val - h\n",
        "    fxh2 = f(x)\n",
        "    grad[idx] = (fxh1 - fxh2) / (2 * h)\n",
        "    x[idx] = tmp_val\n",
        "    it.iternetx()\n",
        "  return grad"
      ],
      "execution_count": 0,
      "outputs": []
    },
    {
      "metadata": {
        "id": "jLk3iua8T7Ub",
        "colab_type": "text"
      },
      "cell_type": "markdown",
      "source": [
        "##### Two Layer 类"
      ]
    },
    {
      "metadata": {
        "id": "LhF9i_YEQj0_",
        "colab_type": "code",
        "colab": {}
      },
      "cell_type": "code",
      "source": [
        "class TwoLayer:\n",
        "  def __init__(self, input_size, hidden_size, output_size,weight_init_std=0.01):\n",
        "    \n",
        "    self.params = {}\n",
        "    self.params['W1'] = weight_init_std * np.random.randn(input_size, hidden_size)\n",
        "    self.params['b1'] = np.zeros(hidden_size)\n",
        "    self.params['W2'] =  weight_init_std * np.random.randn(hidden_size, output_size)\n",
        "    self.params['b2'] = np.zeros(output_size)\n",
        "    \n",
        "    \n",
        "    self.layers = OrderedDict()\n",
        "    self.layers['Affine1'] = Affine(self.params['W1'], self.params['b1'])\n",
        "    self.layers['Relu'] = Relu()\n",
        "    self.layers['Affine2'] = Affine(self.params['W2'], self.params['b2'])\n",
        "    self.lastLayer = SoftmaxWithLoss()\n",
        "    \n",
        "   \n",
        "  def predict(self, x):\n",
        "    for name, layer in self.layers.items():\n",
        "      x = layer.forward(x)\n",
        "    return x\n",
        "  \n",
        "  \n",
        "  \n",
        "  def loss(self, x, t):\n",
        "    y = self.predict(x)\n",
        "    return self.lastLayer.forward(y, t)\n",
        "  \n",
        "  \n",
        "  \n",
        "  def numerical_gradient(self, x, t):\n",
        "    loss_W = lambda W: self.loss(x, t)\n",
        "    grads = {}\n",
        "    grads['W1'] = numerical_gradient(loss_W, self.params['W1'])\n",
        "    grads['b1'] = numerical_gradient(loss_W, self.params['b1'])\n",
        "    grads['W2'] = numerical_gradient(loss_W, self.params['W2'])\n",
        "    grads['b2'] = numerical_gradient(loss_W, self.params['b2'])\n",
        "    \n",
        "    return grads\n",
        "  \n",
        "  def gradient(self, x, t):\n",
        "    \n",
        "    self.loss(x, t)\n",
        "    \n",
        "    dout = 1\n",
        "    dout = self.lastLayer.backward(dout)\n",
        "    \n",
        "    layers = list(self.layers.values())\n",
        "    layers.reverse()\n",
        "    for layer in layers:\n",
        "      dout = layer.backward(dout)\n",
        "    \n",
        "    grads = {}\n",
        "    grads['W1'], grads['b1'] = self.layers['Affine1'].dW, self.layers['Affine1'].db\n",
        "    grads['W2'], grads['b2'] = self.layers['Affine2'].dW, self.layers['Affine2'].db\n",
        "    \n",
        "    return grads"
      ],
      "execution_count": 0,
      "outputs": []
    },
    {
      "metadata": {
        "id": "ZgRc1gl3HEMR",
        "colab_type": "text"
      },
      "cell_type": "markdown",
      "source": [
        "#### 第二步，导入数据集 MNIST"
      ]
    },
    {
      "metadata": {
        "id": "bOzbLQL0HjUB",
        "colab_type": "text"
      },
      "cell_type": "markdown",
      "source": [
        "##### 下载训练数据"
      ]
    },
    {
      "metadata": {
        "id": "vLR883X3TMqy",
        "colab_type": "code",
        "colab": {}
      },
      "cell_type": "code",
      "source": [
        "import tensorflow as tf\n",
        "from tensorflow.examples.tutorials.mnist import input_data\n",
        "mnist = input_data.read_data_sets('MNIST_data',one_hot=True)"
      ],
      "execution_count": 0,
      "outputs": []
    },
    {
      "metadata": {
        "id": "ez-pmx39ImfF",
        "colab_type": "text"
      },
      "cell_type": "markdown",
      "source": [
        "##### 读取训练数据"
      ]
    },
    {
      "metadata": {
        "id": "qvhj5VM-HtjQ",
        "colab_type": "code",
        "colab": {}
      },
      "cell_type": "code",
      "source": [
        "train_nums = mnist.train.num_examples\n",
        "validation_nums = mnist.validation.num_examples\n",
        "test_nums = mnist.test.num_examples"
      ],
      "execution_count": 0,
      "outputs": []
    },
    {
      "metadata": {
        "id": "CWg0WSc9IARp",
        "colab_type": "code",
        "colab": {}
      },
      "cell_type": "code",
      "source": [
        "print(train_nums)\n",
        "print(validation_nums)\n",
        "print(test_nums)"
      ],
      "execution_count": 0,
      "outputs": []
    },
    {
      "metadata": {
        "id": "8Y4KnK4_K392",
        "colab_type": "code",
        "colab": {}
      },
      "cell_type": "code",
      "source": [
        "train_data = mnist.train.images\n",
        "val_data = mnist.validation.images\n",
        "test_data = mnist.test.images"
      ],
      "execution_count": 0,
      "outputs": []
    },
    {
      "metadata": {
        "id": "ol7r3J4ULNUN",
        "colab_type": "code",
        "colab": {}
      },
      "cell_type": "code",
      "source": [
        "train_labels = mnist.train.labels"
      ],
      "execution_count": 0,
      "outputs": []
    },
    {
      "metadata": {
        "id": "7MvzxVc8LRsO",
        "colab_type": "code",
        "colab": {}
      },
      "cell_type": "code",
      "source": [
        "print(train_data.shape)\n",
        "print(train_labels.shape)"
      ],
      "execution_count": 0,
      "outputs": []
    },
    {
      "metadata": {
        "id": "QdH858pvLnxM",
        "colab_type": "text"
      },
      "cell_type": "markdown",
      "source": [
        "#### 第三步，将数据导入网络"
      ]
    },
    {
      "metadata": {
        "id": "0Eo85lqRLUXG",
        "colab_type": "code",
        "colab": {}
      },
      "cell_type": "code",
      "source": [
        "net = TwoLayer(input_size=784, hidden_size=50, output_size=10)"
      ],
      "execution_count": 0,
      "outputs": []
    },
    {
      "metadata": {
        "id": "N8ISoExGNA1-",
        "colab_type": "code",
        "colab": {}
      },
      "cell_type": "code",
      "source": [
        "print(train_data.shape)"
      ],
      "execution_count": 0,
      "outputs": []
    },
    {
      "metadata": {
        "id": "CqzYCv8LNWFA",
        "colab_type": "code",
        "colab": {}
      },
      "cell_type": "code",
      "source": [
        "x = net.predict(train_data)\n",
        "x.shape"
      ],
      "execution_count": 0,
      "outputs": []
    },
    {
      "metadata": {
        "id": "x1Ma2MwFOjIo",
        "colab_type": "code",
        "colab": {}
      },
      "cell_type": "code",
      "source": [
        "print(train_labels.shape)"
      ],
      "execution_count": 0,
      "outputs": []
    },
    {
      "metadata": {
        "id": "krkYqxb4RD_d",
        "colab_type": "code",
        "colab": {}
      },
      "cell_type": "code",
      "source": [
        "net.loss(train_data, train_labels)"
      ],
      "execution_count": 0,
      "outputs": []
    },
    {
      "metadata": {
        "id": "lBNwZJR_XSlC",
        "colab_type": "code",
        "colab": {}
      },
      "cell_type": "code",
      "source": [
        "net.gradient(train_data, train_labels)"
      ],
      "execution_count": 0,
      "outputs": []
    },
    {
      "metadata": {
        "id": "WZE9mUglen6o",
        "colab_type": "code",
        "colab": {}
      },
      "cell_type": "code",
      "source": [
        "train_loss_list = []\n",
        "for i in range(1000):\n",
        "  print(\"epoche:\",i)\n",
        "  grad = net.gradient(train_data, train_labels)\n",
        "  for key in ('W1','b1','W2','b2'):\n",
        "    net.params[key] -= 0.1 * grad[key]\n",
        "  loss = net.loss(train_data, train_labels)\n",
        "  train_loss_list.append(loss)"
      ],
      "execution_count": 0,
      "outputs": []
    },
    {
      "metadata": {
        "id": "5hf-FycBff3J",
        "colab_type": "code",
        "colab": {}
      },
      "cell_type": "code",
      "source": [
        "print(len(train_loss_list))"
      ],
      "execution_count": 0,
      "outputs": []
    },
    {
      "metadata": {
        "id": "ry76kK8zpT49",
        "colab_type": "code",
        "outputId": "443ffbd7-67c2-4934-ab02-5a30c7b0e7dc",
        "colab": {
          "base_uri": "https://localhost:8080/",
          "height": 347
        }
      },
      "cell_type": "code",
      "source": [
        "import matplotlib.pyplot as plt\n",
        "x = np.arange(0, 1000)\n",
        "plt.plot(x, train_loss_list)\n",
        "plt.show()"
      ],
      "execution_count": 0,
      "outputs": [
        {
          "output_type": "display_data",
          "data": {
            "image/png": "[encoded data removed]",
            "text/plain": [
              "<Figure size 576x396 with 1 Axes>"
            ]
          },
          "metadata": {
            "tags": []
          }
        }
      ]
    },
    {
      "metadata": {
        "id": "RfqEvphtjiyQ",
        "colab_type": "text"
      },
      "cell_type": "markdown",
      "source": [
        "#### 第四步 批处理"
      ]
    },
    {
      "metadata": {
        "id": "sJ4R6ugSgt9H",
        "colab_type": "code",
        "colab": {}
      },
      "cell_type": "code",
      "source": [
        "x_train = train_data\n",
        "t_train = train_labels\n",
        "net = TwoLayer(input_size=784, hidden_size=50, output_size=10)\n",
        "\n",
        "iters_num = 10000\n",
        "train_size = train_data.shape[0]\n",
        "batch_size = 100\n",
        "learning_rate = 0.1\n",
        "\n",
        "train_loss_list = []\n",
        "\n",
        "iter_per_epoch = max(train_size / batch_size , 1)\n",
        "\n",
        "for i in range(iters_num):\n",
        "  print(\"Epoches:\",i)\n",
        "  batch_mask = np.random.choice(train_size, batch_size)\n",
        "  x_batch = x_train[batch_mask]\n",
        "  t_batch = t_train[batch_mask]\n",
        "  \n",
        "  grad = net.gradient(x_batch, t_batch)\n",
        "  \n",
        "  for key in ('W1','b1','W2','b2'):\n",
        "    net.params[key] -= 0.1 * grad[key]\n",
        "    \n",
        "  loss = net.loss(x_batch, t_batch)\n",
        "  train_loss_list.append(loss)"
      ],
      "execution_count": 0,
      "outputs": []
    },
    {
      "metadata": {
        "id": "_YxEaTI2ppEE",
        "colab_type": "code",
        "outputId": "9175afc4-f459-484a-f3ca-6473f1c20831",
        "colab": {
          "base_uri": "https://localhost:8080/",
          "height": 347
        }
      },
      "cell_type": "code",
      "source": [
        "import matplotlib.pyplot as plt\n",
        "x = np.arange(0, 10000)\n",
        "plt.plot(x, train_loss_list)\n",
        "plt.show()"
      ],
      "execution_count": 0,
      "outputs": [
        {
          "output_type": "display_data",
          "data": {
            "image/png": "[encoded data removed]",
            "text/plain": [
              "<Figure size 576x396 with 1 Axes>"
            ]
          },
          "metadata": {
            "tags": []
          }
        }
      ]
    },
    {
      "metadata": {
        "id": "kMaGAocFvbfz",
        "colab_type": "code",
        "colab": {}
      },
      "cell_type": "code",
      "source": [
        ""
      ],
      "execution_count": 0,
      "outputs": []
    }
  ]
}
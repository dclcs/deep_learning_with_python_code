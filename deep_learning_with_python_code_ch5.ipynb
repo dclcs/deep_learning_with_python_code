{
  "nbformat": 4,
  "nbformat_minor": 0,
  "metadata": {
    "colab": {
      "name": "deep_learning_with_python_code_ch5.ipynb",
      "version": "0.3.2",
      "provenance": [],
      "collapsed_sections": []
    },
    "kernelspec": {
      "name": "python3",
      "display_name": "Python 3"
    }
  },
  "cells": [
    {
      "metadata": {
        "id": "htkh8hJVkVAi",
        "colab_type": "text"
      },
      "cell_type": "markdown",
      "source": [
        "### 5.4"
      ]
    },
    {
      "metadata": {
        "id": "i0C8ixVYkXWS",
        "colab_type": "text"
      },
      "cell_type": "markdown",
      "source": [
        "#### 5.4.1"
      ]
    },
    {
      "metadata": {
        "id": "RkVoclgWj-8a",
        "colab_type": "code",
        "colab": {}
      },
      "cell_type": "code",
      "source": [
        "import numpy as np"
      ],
      "execution_count": 0,
      "outputs": []
    },
    {
      "metadata": {
        "id": "C92LUokOkUJn",
        "colab_type": "code",
        "colab": {}
      },
      "cell_type": "code",
      "source": [
        "class MulLayer:\n",
        "  def __init__(self):\n",
        "    self.x = None\n",
        "    self.y = None\n",
        "  \n",
        "  def forward(self, x, y):\n",
        "    self.x = x\n",
        "    self.y = y\n",
        "    out = x * y\n",
        "    return out\n",
        " \n",
        "  def backward(self, dout):\n",
        "    dx = dout * self.y\n",
        "    dy = dout * self.x\n",
        "    \n",
        "    return dx, dy"
      ],
      "execution_count": 0,
      "outputs": []
    },
    {
      "metadata": {
        "id": "ROE_YakCk-w1",
        "colab_type": "code",
        "colab": {}
      },
      "cell_type": "code",
      "source": [
        "apple = 100\n",
        "apple_num = 2\n",
        "tax = 1.1"
      ],
      "execution_count": 0,
      "outputs": []
    },
    {
      "metadata": {
        "id": "Mbp321pwlBec",
        "colab_type": "code",
        "colab": {}
      },
      "cell_type": "code",
      "source": [
        "#layer\n",
        "mul_apple_layer = MulLayer()\n",
        "mul_tax_layer = MulLayer()"
      ],
      "execution_count": 0,
      "outputs": []
    },
    {
      "metadata": {
        "id": "A3tb0UenlGtU",
        "colab_type": "code",
        "colab": {}
      },
      "cell_type": "code",
      "source": [
        "#forward\n",
        "apple_price = mul_apple_layer.forward(apple, apple_num)\n",
        "price = mul_tax_layer.forward(apple_price, tax)"
      ],
      "execution_count": 0,
      "outputs": []
    },
    {
      "metadata": {
        "id": "z_Em04dMlUCN",
        "colab_type": "code",
        "colab": {
          "base_uri": "https://localhost:8080/",
          "height": 35
        },
        "outputId": "56496d6b-9ca2-4049-b45e-154a16b88555"
      },
      "cell_type": "code",
      "source": [
        "price"
      ],
      "execution_count": 12,
      "outputs": [
        {
          "output_type": "execute_result",
          "data": {
            "text/plain": [
              "220.00000000000003"
            ]
          },
          "metadata": {
            "tags": []
          },
          "execution_count": 12
        }
      ]
    },
    {
      "metadata": {
        "id": "zzY41P2PlUld",
        "colab_type": "code",
        "colab": {}
      },
      "cell_type": "code",
      "source": [
        "#backward\n",
        "dprice = 1\n",
        "dapple_price, dtax = mul_tax_layer.backward(dprice)\n",
        "dapple, dapple_num = mul_apple_layer.backward(dapple_price)"
      ],
      "execution_count": 0,
      "outputs": []
    },
    {
      "metadata": {
        "id": "hZYDlSOIldI1",
        "colab_type": "code",
        "colab": {
          "base_uri": "https://localhost:8080/",
          "height": 35
        },
        "outputId": "aca91795-943a-4493-82e6-e6c8c5ea79da"
      },
      "cell_type": "code",
      "source": [
        "print(dapple, dapple_num, dtax)"
      ],
      "execution_count": 15,
      "outputs": [
        {
          "output_type": "stream",
          "text": [
            "2.2 110.00000000000001 200\n"
          ],
          "name": "stdout"
        }
      ]
    },
    {
      "metadata": {
        "id": "aOZ8HWcPmtF3",
        "colab_type": "text"
      },
      "cell_type": "markdown",
      "source": [
        "#### 5.4.2"
      ]
    },
    {
      "metadata": {
        "id": "8FLdZbuOlrRL",
        "colab_type": "code",
        "colab": {}
      },
      "cell_type": "code",
      "source": [
        "class AddLayer:\n",
        "  def __init__(self):\n",
        "    pass\n",
        "  def forward(self, x, y):\n",
        "    out = x + y\n",
        "    return out\n",
        "  def backward(self, dout):\n",
        "    dx = dout * 1\n",
        "    dy = dout * 1\n",
        "    return dx, dy"
      ],
      "execution_count": 0,
      "outputs": []
    },
    {
      "metadata": {
        "id": "nwlKNdOjnC48",
        "colab_type": "code",
        "colab": {}
      },
      "cell_type": "code",
      "source": [
        "apple = 100\n",
        "apple_num = 2\n",
        "orange = 150\n",
        "orange_num = 3\n",
        "tax = 1.1"
      ],
      "execution_count": 0,
      "outputs": []
    },
    {
      "metadata": {
        "id": "87uDaeDznKHz",
        "colab_type": "code",
        "colab": {}
      },
      "cell_type": "code",
      "source": [
        "#layer\n",
        "mul_apple_layer = MulLayer()\n",
        "mul_orange_layer = MulLayer()\n",
        "add_apple_orange_layer = AddLayer()\n",
        "mul_tax_layer = MulLayer()"
      ],
      "execution_count": 0,
      "outputs": []
    },
    {
      "metadata": {
        "id": "egBKGeTsnYsU",
        "colab_type": "code",
        "colab": {}
      },
      "cell_type": "code",
      "source": [
        "# forward\n",
        "apple_price = mul_apple_layer.forward(apple, apple_num)\n",
        "orange_price = mul_orange_layer.forward(orange, orange_num)\n",
        "all_price = add_apple_orange_layer.forward(apple_price, orange_price)\n",
        "price = mul_tax_layer.forward(all_price, tax)"
      ],
      "execution_count": 0,
      "outputs": []
    },
    {
      "metadata": {
        "id": "3Rfbxs17nt9s",
        "colab_type": "code",
        "colab": {}
      },
      "cell_type": "code",
      "source": [
        "#backward\n",
        "dprice = 1\n",
        "dall_price,dtax = mul_tax_layer.backward(dprice)\n",
        "dapple_price,dorange_price = add_apple_orange_layer.backward(dall_price)\n",
        "dorange, dorange_num = mul_orange_layer.backward(dorange_price)\n",
        "dapple, dapple_num = mul_apple_layer.backward(dapple_price)"
      ],
      "execution_count": 0,
      "outputs": []
    },
    {
      "metadata": {
        "id": "M-bP0_NyoX-z",
        "colab_type": "code",
        "colab": {
          "base_uri": "https://localhost:8080/",
          "height": 35
        },
        "outputId": "154d3204-3622-4a56-e2d5-0edc806a0033"
      },
      "cell_type": "code",
      "source": [
        "print(price)"
      ],
      "execution_count": 32,
      "outputs": [
        {
          "output_type": "stream",
          "text": [
            "715.0000000000001\n"
          ],
          "name": "stdout"
        }
      ]
    },
    {
      "metadata": {
        "id": "iLXcyOsRodfb",
        "colab_type": "code",
        "colab": {
          "base_uri": "https://localhost:8080/",
          "height": 35
        },
        "outputId": "0872e86c-04ca-42e7-a4e7-0a967c62291e"
      },
      "cell_type": "code",
      "source": [
        "print(dapple_num, dapple, dorange,dorange_num, dtax)"
      ],
      "execution_count": 33,
      "outputs": [
        {
          "output_type": "stream",
          "text": [
            "110.00000000000001 2.2 3.3000000000000003 165.0 650\n"
          ],
          "name": "stdout"
        }
      ]
    },
    {
      "metadata": {
        "id": "uDECdGPtpR8K",
        "colab_type": "text"
      },
      "cell_type": "markdown",
      "source": [
        "### 5.5"
      ]
    },
    {
      "metadata": {
        "id": "v6Ossl9SpTSb",
        "colab_type": "text"
      },
      "cell_type": "markdown",
      "source": [
        "#### 5.5.1"
      ]
    },
    {
      "metadata": {
        "id": "xDrvYTGzomfU",
        "colab_type": "code",
        "colab": {}
      },
      "cell_type": "code",
      "source": [
        "class ReLu:\n",
        "  def __init__(self):\n",
        "    self.mask = None\n",
        "  \n",
        "  def forward(self, x):\n",
        "    self.mask = (x <= 0)\n",
        "    out = x.copy()\n",
        "    out[self.mask] = 0\n",
        "    \n",
        "    return x\n",
        "  \n",
        "  def backward(self, dout):\n",
        "    dout[self.mask] = 0\n",
        "    dx = dout\n",
        "    \n",
        "    return dx"
      ],
      "execution_count": 0,
      "outputs": []
    },
    {
      "metadata": {
        "id": "pWA4QVIWsFfd",
        "colab_type": "text"
      },
      "cell_type": "markdown",
      "source": [
        "#### 5.5.2"
      ]
    },
    {
      "metadata": {
        "id": "jCucm-MTsE7D",
        "colab_type": "code",
        "colab": {}
      },
      "cell_type": "code",
      "source": [
        "class Sigmoid:\n",
        "  def __init__(self):\n",
        "    self.out = None\n",
        "  def forward(self,x):\n",
        "    out = 1 / (1 + np.exp(-x))\n",
        "    self.out = out\n",
        "    \n",
        "    return out\n",
        "  def backward(self, dout):\n",
        "    dx = dout * (1.0 - self.out) * self.out\n",
        "    return dx"
      ],
      "execution_count": 0,
      "outputs": []
    },
    {
      "metadata": {
        "id": "Q55A7UrDuDXG",
        "colab_type": "text"
      },
      "cell_type": "markdown",
      "source": [
        "### 5.6"
      ]
    },
    {
      "metadata": {
        "id": "gTwltFl7uFcS",
        "colab_type": "text"
      },
      "cell_type": "markdown",
      "source": [
        "#### 5.6.2"
      ]
    },
    {
      "metadata": {
        "id": "rEyXff5ztPHD",
        "colab_type": "code",
        "colab": {}
      },
      "cell_type": "code",
      "source": [
        "class Affine:\n",
        "  def __init__(self,W, b):\n",
        "    self.W = W\n",
        "    self.b = b\n",
        "    self.x = None\n",
        "    self.dW = None\n",
        "    self.db =None\n",
        "  \n",
        "  def forward(self, x):\n",
        "    self.x = x\n",
        "    out = np.dot(x, self.W) + self.b\n",
        "    \n",
        "    return out\n",
        "  \n",
        "  def backward(self,dout):\n",
        "    dx = np.dot(dout,self.W.T)\n",
        "    self.dW = np.dot(self.X.T, dout)\n",
        "    self.db = np.sum(dout, axis=0)\n",
        "    return dx"
      ],
      "execution_count": 0,
      "outputs": []
    },
    {
      "metadata": {
        "id": "yrKSQFKk09od",
        "colab_type": "text"
      },
      "cell_type": "markdown",
      "source": [
        "#### 5.6.3"
      ]
    },
    {
      "metadata": {
        "id": "vGrfspQZuo-C",
        "colab_type": "code",
        "colab": {}
      },
      "cell_type": "code",
      "source": [
        "class SotmaxWithLoss:\n",
        "  def __init__(self):\n",
        "    self.loss = None\n",
        "    self.y = None\n",
        "    self.t =None\n",
        "  def forward(self, x, t):\n",
        "    self.t = t\n",
        "    self.y = softmax(x)\n",
        "    self.loss = cross_entropy_error(self.y, self.t)\n",
        "    \n",
        "    return self.loss\n",
        "  \n",
        "  def backword(self, dout=1):\n",
        "    batch_size = self.t.shape[0]\n",
        "    dx = (self.y - self.t) / batch_size\n",
        "    \n",
        "    return dx"
      ],
      "execution_count": 0,
      "outputs": []
    },
    {
      "metadata": {
        "id": "b7vtFO8p1abB",
        "colab_type": "code",
        "colab": {}
      },
      "cell_type": "code",
      "source": [
        ""
      ],
      "execution_count": 0,
      "outputs": []
    }
  ]
}